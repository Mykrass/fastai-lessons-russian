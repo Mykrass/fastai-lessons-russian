{
  "nbformat": 4,
  "nbformat_minor": 0,
  "metadata": {
    "colab": {
      "name": "fastai_rnn2.ipynb",
      "version": "0.3.2",
      "provenance": [],
      "collapsed_sections": [
        "ZLsJugRIdOyu",
        "fbqlGzDcd0Qm",
        "O2cltXN5A2LY",
        "uvckLQjBKpEw",
        "zNlaxWu9Dv44",
        "UPIqL01_jRAz",
        "4DpvenB1L-YO",
        "vEdddwxg0E7J",
        "IcRg380WBZKB",
        "O3mrSEGXViyr"
      ],
      "include_colab_link": true
    },
    "kernelspec": {
      "name": "python3",
      "display_name": "Python 3"
    },
    "accelerator": "GPU"
  },
  "cells": [
    {
      "cell_type": "markdown",
      "metadata": {
        "id": "view-in-github",
        "colab_type": "text"
      },
      "source": [
        "[View in Colaboratory](https://colab.research.google.com/gist/naviarh/fda21c0840a564fe39a7d26688f448b9/fastai_rnn2.ipynb)"
      ]
    },
    {
      "metadata": {
        "id": "tCz7A42p163-",
        "colab_type": "code",
        "colab": {}
      },
      "cell_type": "code",
      "source": [
        "!pip install --upgrade pip\n",
        "!pip3 install fastai"
      ],
      "execution_count": 0,
      "outputs": []
    },
    {
      "metadata": {
        "id": "ZLsJugRIdOyu",
        "colab_type": "text"
      },
      "cell_type": "markdown",
      "source": [
        "### Настройка платформы"
      ]
    },
    {
      "metadata": {
        "id": "b9RIWXWYcjke",
        "colab_type": "code",
        "colab": {
          "base_uri": "https://localhost:8080/",
          "height": 35
        },
        "outputId": "80eed0b1-4dec-4e97-c936-9cd5ea6fb38e"
      },
      "cell_type": "code",
      "source": [
        "# Put these at the top of every notebook, to get automatic reloading and inline plotting\n",
        "%reload_ext autoreload\n",
        "%autoreload 2\n",
        "%matplotlib inline\n",
        "!pwd"
      ],
      "execution_count": 2,
      "outputs": [
        {
          "output_type": "stream",
          "text": [
            "/content\r\n"
          ],
          "name": "stdout"
        }
      ]
    },
    {
      "metadata": {
        "id": "I8Jh2W9zdbJM",
        "colab_type": "code",
        "colab": {}
      },
      "cell_type": "code",
      "source": [
        "#!/usr/bin/env python3\n",
        "# -*- coding: utf-8 -*-"
      ],
      "execution_count": 0,
      "outputs": []
    },
    {
      "metadata": {
        "id": "RChg914fde65",
        "colab_type": "code",
        "colab": {
          "base_uri": "https://localhost:8080/",
          "height": 62
        },
        "outputId": "3b4525d9-a217-4eae-ca7b-cd1ebdbbf5df"
      },
      "cell_type": "code",
      "source": [
        "import subprocess, os\n",
        "os.uname()"
      ],
      "execution_count": 4,
      "outputs": [
        {
          "output_type": "execute_result",
          "data": {
            "text/plain": [
              "posix.uname_result(sysname='Linux', nodename='2d49e9e490a7', release='4.14.33+', version='#1 SMP Wed Jun 20 01:36:48 PDT 2018', machine='x86_64')"
            ]
          },
          "metadata": {
            "tags": []
          },
          "execution_count": 4
        }
      ]
    },
    {
      "metadata": {
        "id": "BABIQeLXdiu1",
        "colab_type": "code",
        "colab": {
          "base_uri": "https://localhost:8080/",
          "height": 104
        },
        "outputId": "f666449a-0e02-44c4-9f42-fc5397723340"
      },
      "cell_type": "code",
      "source": [
        "from fastai.io import *\n",
        "from fastai.structured import *\n",
        "from fastai.column_data import *\n",
        "from fastai.conv_learner import *\n",
        "!pip3 show fastai torch | grep Name -A 1"
      ],
      "execution_count": 5,
      "outputs": [
        {
          "output_type": "stream",
          "text": [
            "Name: fastai\r\n",
            "Version: 0.7.0\r\n",
            "--\r\n",
            "Name: torch\r\n",
            "Version: 0.3.1\r\n"
          ],
          "name": "stdout"
        }
      ]
    },
    {
      "metadata": {
        "id": "0hdFLQ0Edo9P",
        "colab_type": "code",
        "colab": {
          "base_uri": "https://localhost:8080/",
          "height": 35
        },
        "outputId": "540701f1-fd20-4655-9ae1-27f68d984db5"
      },
      "cell_type": "code",
      "source": [
        "torch.cuda.set_device(0)\n",
        "torch.cuda.get_device_name(0)"
      ],
      "execution_count": 6,
      "outputs": [
        {
          "output_type": "execute_result",
          "data": {
            "text/plain": [
              "'Tesla K80'"
            ]
          },
          "metadata": {
            "tags": []
          },
          "execution_count": 6
        }
      ]
    },
    {
      "metadata": {
        "id": "z7sO834Adt9Z",
        "colab_type": "code",
        "colab": {}
      },
      "cell_type": "code",
      "source": [
        "#from fastai.imports import *\n",
        "#from fastai.transforms import *\n",
        "#from fastai.conv_learner import *\n",
        "#from fastai.model import *\n",
        "#from fastai.dataset import *\n",
        "#from fastai.sgdr import *\n",
        "#from fastai.plots import *\n",
        "#!pip3 show fastai torch | grep Name -A 1"
      ],
      "execution_count": 0,
      "outputs": []
    },
    {
      "metadata": {
        "id": "fbqlGzDcd0Qm",
        "colab_type": "text"
      },
      "cell_type": "markdown",
      "source": [
        "### Начало"
      ]
    },
    {
      "metadata": {
        "id": "Xh-cMNezeETn",
        "colab_type": "text"
      },
      "cell_type": "markdown",
      "source": [
        "Мы собираемся скачать собрание сочинений Ницше в качестве данных для этого класса."
      ]
    },
    {
      "metadata": {
        "id": "pOkKGAuSdpnh",
        "colab_type": "code",
        "colab": {}
      },
      "cell_type": "code",
      "source": [
        "PATH='nietzsche/'\n",
        "os.makedirs(PATH, exist_ok=True)"
      ],
      "execution_count": 0,
      "outputs": []
    },
    {
      "metadata": {
        "id": "sCgHZDwmeV0G",
        "colab_type": "code",
        "colab": {
          "base_uri": "https://localhost:8080/",
          "height": 52
        },
        "outputId": "eac233c7-4209-4b04-bc41-0efb6a5ece34"
      },
      "cell_type": "code",
      "source": [
        "get_data(\"https://s3.amazonaws.com/text-datasets/nietzsche.txt\", f'{PATH}nietzsche.txt')\n",
        "text = open(f'{PATH}nietzsche.txt').read()\n",
        "print('corpus length:', len(text))"
      ],
      "execution_count": 8,
      "outputs": [
        {
          "output_type": "stream",
          "text": [
            "nietzsche.txt: 606kB [00:00, 1.66MB/s]                           "
          ],
          "name": "stderr"
        },
        {
          "output_type": "stream",
          "text": [
            "corpus length: 600893\n"
          ],
          "name": "stdout"
        },
        {
          "output_type": "stream",
          "text": [
            "\n"
          ],
          "name": "stderr"
        }
      ]
    },
    {
      "metadata": {
        "id": "OtJrIrFuep0v",
        "colab_type": "code",
        "colab": {
          "base_uri": "https://localhost:8080/",
          "height": 62
        },
        "outputId": "2e2ac844-7296-4846-84cb-de28ad839e6b"
      },
      "cell_type": "code",
      "source": [
        "text[:400]"
      ],
      "execution_count": 9,
      "outputs": [
        {
          "output_type": "execute_result",
          "data": {
            "text/plain": [
              "'PREFACE\\n\\n\\nSUPPOSING that Truth is a woman--what then? Is there not ground\\nfor suspecting that all philosophers, in so far as they have been\\ndogmatists, have failed to understand women--that the terrible\\nseriousness and clumsy importunity with which they have usually paid\\ntheir addresses to Truth, have been unskilled and unseemly methods for\\nwinning a woman? Certainly she has never allowed herself '"
            ]
          },
          "metadata": {
            "tags": []
          },
          "execution_count": 9
        }
      ]
    },
    {
      "metadata": {
        "id": "x0gSpoUCeuSM",
        "colab_type": "code",
        "colab": {
          "base_uri": "https://localhost:8080/",
          "height": 35
        },
        "outputId": "5cba9e12-bf35-4abe-d7fc-f9f18b2b62ab"
      },
      "cell_type": "code",
      "source": [
        "chars = sorted(list(set(text))) # отсортированный список множества всех символов\n",
        "vocab_size = len(chars)+1 # количество символов (+1 для нулевого значения)\n",
        "print('total chars:', vocab_size)"
      ],
      "execution_count": 10,
      "outputs": [
        {
          "output_type": "stream",
          "text": [
            "total chars: 85\n"
          ],
          "name": "stdout"
        }
      ]
    },
    {
      "metadata": {
        "id": "7yJ7iSlnHcxp",
        "colab_type": "code",
        "colab": {
          "base_uri": "https://localhost:8080/",
          "height": 35
        },
        "outputId": "9b2aecb6-4daf-431d-b10a-21b044873a8f"
      },
      "cell_type": "code",
      "source": [
        "len(set(text))"
      ],
      "execution_count": 11,
      "outputs": [
        {
          "output_type": "execute_result",
          "data": {
            "text/plain": [
              "84"
            ]
          },
          "metadata": {
            "tags": []
          },
          "execution_count": 11
        }
      ]
    },
    {
      "metadata": {
        "id": "reV7eEY0e3ia",
        "colab_type": "code",
        "colab": {
          "base_uri": "https://localhost:8080/",
          "height": 62
        },
        "outputId": "02cde30e-0d23-4e80-c709-258c64460a92"
      },
      "cell_type": "code",
      "source": [
        "print(chars)"
      ],
      "execution_count": 12,
      "outputs": [
        {
          "output_type": "stream",
          "text": [
            "['\\n', ' ', '!', '\"', \"'\", '(', ')', ',', '-', '.', '0', '1', '2', '3', '4', '5', '6', '7', '8', '9', ':', ';', '=', '?', 'A', 'B', 'C', 'D', 'E', 'F', 'G', 'H', 'I', 'J', 'K', 'L', 'M', 'N', 'O', 'P', 'Q', 'R', 'S', 'T', 'U', 'V', 'W', 'X', 'Y', 'Z', '[', ']', '_', 'a', 'b', 'c', 'd', 'e', 'f', 'g', 'h', 'i', 'j', 'k', 'l', 'm', 'n', 'o', 'p', 'q', 'r', 's', 't', 'u', 'v', 'w', 'x', 'y', 'z', 'Æ', 'ä', 'æ', 'é', 'ë']\n"
          ],
          "name": "stdout"
        }
      ]
    },
    {
      "metadata": {
        "id": "Ja1nRu7U-PrC",
        "colab_type": "code",
        "colab": {
          "base_uri": "https://localhost:8080/",
          "height": 35
        },
        "outputId": "e005a9c6-b5d2-4fc4-8ea2-9b0ccd3b280e"
      },
      "cell_type": "code",
      "source": [
        "# Вставим нулевое значение в набор для отступов\n",
        "chars.insert(0, \"\\0\")\n",
        "\n",
        "''.join(chars[1:-6])"
      ],
      "execution_count": 13,
      "outputs": [
        {
          "output_type": "execute_result",
          "data": {
            "text/plain": [
              "'\\n !\"\\'(),-.0123456789:;=?ABCDEFGHIJKLMNOPQRSTUVWXYZ[]_abcdefghijklmnopqrstuvwxy'"
            ]
          },
          "metadata": {
            "tags": []
          },
          "execution_count": 13
        }
      ]
    },
    {
      "metadata": {
        "id": "cye-7xCc-S4B",
        "colab_type": "code",
        "colab": {
          "base_uri": "https://localhost:8080/",
          "height": 62
        },
        "outputId": "e91f2822-e9de-4001-81ee-c9a7fa8ada8c"
      },
      "cell_type": "code",
      "source": [
        "print(chars)"
      ],
      "execution_count": 14,
      "outputs": [
        {
          "output_type": "stream",
          "text": [
            "['\\x00', '\\n', ' ', '!', '\"', \"'\", '(', ')', ',', '-', '.', '0', '1', '2', '3', '4', '5', '6', '7', '8', '9', ':', ';', '=', '?', 'A', 'B', 'C', 'D', 'E', 'F', 'G', 'H', 'I', 'J', 'K', 'L', 'M', 'N', 'O', 'P', 'Q', 'R', 'S', 'T', 'U', 'V', 'W', 'X', 'Y', 'Z', '[', ']', '_', 'a', 'b', 'c', 'd', 'e', 'f', 'g', 'h', 'i', 'j', 'k', 'l', 'm', 'n', 'o', 'p', 'q', 'r', 's', 't', 'u', 'v', 'w', 'x', 'y', 'z', 'Æ', 'ä', 'æ', 'é', 'ë']\n"
          ],
          "name": "stdout"
        }
      ]
    },
    {
      "metadata": {
        "id": "_U048K6p-eJD",
        "colab_type": "code",
        "colab": {
          "base_uri": "https://localhost:8080/",
          "height": 35
        },
        "outputId": "78701987-3a81-4902-d170-afeac4348ae6"
      },
      "cell_type": "code",
      "source": [
        "len(chars)"
      ],
      "execution_count": 15,
      "outputs": [
        {
          "output_type": "execute_result",
          "data": {
            "text/plain": [
              "85"
            ]
          },
          "metadata": {
            "tags": []
          },
          "execution_count": 15
        }
      ]
    },
    {
      "metadata": {
        "id": "gTRlOcfM_CjT",
        "colab_type": "code",
        "colab": {}
      },
      "cell_type": "code",
      "source": [
        "# Карта символов в индексы\n",
        "char_indices = {c: i for i, c in enumerate(chars)}\n",
        "# Карта индексов в символы\n",
        "indices_char = {i: c for i, c in enumerate(chars)}"
      ],
      "execution_count": 0,
      "outputs": []
    },
    {
      "metadata": {
        "id": "aMK8CnPr_XxE",
        "colab_type": "code",
        "colab": {
          "base_uri": "https://localhost:8080/",
          "height": 62
        },
        "outputId": "91c9f67b-f79a-41f0-e8d0-869b64550e01"
      },
      "cell_type": "code",
      "source": [
        "print(char_indices)"
      ],
      "execution_count": 17,
      "outputs": [
        {
          "output_type": "stream",
          "text": [
            "{'\\x00': 0, '\\n': 1, ' ': 2, '!': 3, '\"': 4, \"'\": 5, '(': 6, ')': 7, ',': 8, '-': 9, '.': 10, '0': 11, '1': 12, '2': 13, '3': 14, '4': 15, '5': 16, '6': 17, '7': 18, '8': 19, '9': 20, ':': 21, ';': 22, '=': 23, '?': 24, 'A': 25, 'B': 26, 'C': 27, 'D': 28, 'E': 29, 'F': 30, 'G': 31, 'H': 32, 'I': 33, 'J': 34, 'K': 35, 'L': 36, 'M': 37, 'N': 38, 'O': 39, 'P': 40, 'Q': 41, 'R': 42, 'S': 43, 'T': 44, 'U': 45, 'V': 46, 'W': 47, 'X': 48, 'Y': 49, 'Z': 50, '[': 51, ']': 52, '_': 53, 'a': 54, 'b': 55, 'c': 56, 'd': 57, 'e': 58, 'f': 59, 'g': 60, 'h': 61, 'i': 62, 'j': 63, 'k': 64, 'l': 65, 'm': 66, 'n': 67, 'o': 68, 'p': 69, 'q': 70, 'r': 71, 's': 72, 't': 73, 'u': 74, 'v': 75, 'w': 76, 'x': 77, 'y': 78, 'z': 79, 'Æ': 80, 'ä': 81, 'æ': 82, 'é': 83, 'ë': 84}\n"
          ],
          "name": "stdout"
        }
      ]
    },
    {
      "metadata": {
        "id": "9pmRuV2D_kCw",
        "colab_type": "code",
        "colab": {
          "base_uri": "https://localhost:8080/",
          "height": 62
        },
        "outputId": "9acc49fd-239c-4e3c-e939-3ba6f99e9284"
      },
      "cell_type": "code",
      "source": [
        "print(indices_char)"
      ],
      "execution_count": 18,
      "outputs": [
        {
          "output_type": "stream",
          "text": [
            "{0: '\\x00', 1: '\\n', 2: ' ', 3: '!', 4: '\"', 5: \"'\", 6: '(', 7: ')', 8: ',', 9: '-', 10: '.', 11: '0', 12: '1', 13: '2', 14: '3', 15: '4', 16: '5', 17: '6', 18: '7', 19: '8', 20: '9', 21: ':', 22: ';', 23: '=', 24: '?', 25: 'A', 26: 'B', 27: 'C', 28: 'D', 29: 'E', 30: 'F', 31: 'G', 32: 'H', 33: 'I', 34: 'J', 35: 'K', 36: 'L', 37: 'M', 38: 'N', 39: 'O', 40: 'P', 41: 'Q', 42: 'R', 43: 'S', 44: 'T', 45: 'U', 46: 'V', 47: 'W', 48: 'X', 49: 'Y', 50: 'Z', 51: '[', 52: ']', 53: '_', 54: 'a', 55: 'b', 56: 'c', 57: 'd', 58: 'e', 59: 'f', 60: 'g', 61: 'h', 62: 'i', 63: 'j', 64: 'k', 65: 'l', 66: 'm', 67: 'n', 68: 'o', 69: 'p', 70: 'q', 71: 'r', 72: 's', 73: 't', 74: 'u', 75: 'v', 76: 'w', 77: 'x', 78: 'y', 79: 'z', 80: 'Æ', 81: 'ä', 82: 'æ', 83: 'é', 84: 'ë'}\n"
          ],
          "name": "stdout"
        }
      ]
    },
    {
      "metadata": {
        "id": "EJXRueO2_71c",
        "colab_type": "code",
        "colab": {
          "base_uri": "https://localhost:8080/",
          "height": 35
        },
        "outputId": "d1fb0cfa-671a-4376-d3a1-000277472990"
      },
      "cell_type": "code",
      "source": [
        "# Данные текста (text) в виде индексов\n",
        "idx = [char_indices[c] for c in text]\n",
        "idx[:10]"
      ],
      "execution_count": 19,
      "outputs": [
        {
          "output_type": "execute_result",
          "data": {
            "text/plain": [
              "[40, 42, 29, 30, 25, 27, 29, 1, 1, 1]"
            ]
          },
          "metadata": {
            "tags": []
          },
          "execution_count": 19
        }
      ]
    },
    {
      "metadata": {
        "id": "vnjs26m0ATNB",
        "colab_type": "code",
        "colab": {
          "base_uri": "https://localhost:8080/",
          "height": 35
        },
        "outputId": "01976459-7444-43bf-90cb-100b14d7c1fb"
      },
      "cell_type": "code",
      "source": [
        "# Пример получения строки стекста по карте индексов\n",
        "''.join(indices_char[i] for i in idx[:70])"
      ],
      "execution_count": 20,
      "outputs": [
        {
          "output_type": "execute_result",
          "data": {
            "text/plain": [
              "'PREFACE\\n\\n\\nSUPPOSING that Truth is a woman--what then? Is there not gro'"
            ]
          },
          "metadata": {
            "tags": []
          },
          "execution_count": 20
        }
      ]
    },
    {
      "metadata": {
        "id": "tMTPaPWtI5cq",
        "colab_type": "text"
      },
      "cell_type": "markdown",
      "source": [
        "Теперь наш датасет - переменная **idx**"
      ]
    },
    {
      "metadata": {
        "id": "O2cltXN5A2LY",
        "colab_type": "text"
      },
      "cell_type": "markdown",
      "source": [
        "### Рекуррентная модель"
      ]
    },
    {
      "metadata": {
        "id": "b4kONmXtA6ls",
        "colab_type": "code",
        "colab": {}
      },
      "cell_type": "code",
      "source": [
        "# Длина рекурсии\n",
        "cs=8"
      ],
      "execution_count": 0,
      "outputs": []
    },
    {
      "metadata": {
        "id": "LO08OMaF3WgF",
        "colab_type": "code",
        "colab": {}
      },
      "cell_type": "code",
      "source": [
        "# Создадим набор из 8 последовательностей каждой 8 буквы со смещением\n",
        "c_in_dat = [[idx[i+j] for i in range(cs)] for j in range(len(idx)-cs)]"
      ],
      "execution_count": 0,
      "outputs": []
    },
    {
      "metadata": {
        "id": "lw_89VUU3uZo",
        "colab_type": "code",
        "colab": {}
      },
      "cell_type": "code",
      "source": [
        "# Выходная последовательность подобным же образом\n",
        "c_out_dat = [idx[j+cs] for j in range(len(idx)-cs)]"
      ],
      "execution_count": 0,
      "outputs": []
    },
    {
      "metadata": {
        "id": "lE1OHCsnCkx2",
        "colab_type": "code",
        "colab": {
          "base_uri": "https://localhost:8080/",
          "height": 35
        },
        "outputId": "212d871d-2ee7-48b7-b73d-9d5d30ac0c5a"
      },
      "cell_type": "code",
      "source": [
        "# наши входы\n",
        "xs = np.stack(c_in_dat, axis=0)\n",
        "xs.shape"
      ],
      "execution_count": 24,
      "outputs": [
        {
          "output_type": "execute_result",
          "data": {
            "text/plain": [
              "(600885, 8)"
            ]
          },
          "metadata": {
            "tags": []
          },
          "execution_count": 24
        }
      ]
    },
    {
      "metadata": {
        "id": "SAZcj70QCoyx",
        "colab_type": "code",
        "colab": {
          "base_uri": "https://localhost:8080/",
          "height": 35
        },
        "outputId": "8773cf10-28cd-4677-bc60-7a2a48d5d62d"
      },
      "cell_type": "code",
      "source": [
        "# наш выход\n",
        "y = np.stack(c_out_dat)\n",
        "y.shape"
      ],
      "execution_count": 25,
      "outputs": [
        {
          "output_type": "execute_result",
          "data": {
            "text/plain": [
              "(600885,)"
            ]
          },
          "metadata": {
            "tags": []
          },
          "execution_count": 25
        }
      ]
    },
    {
      "metadata": {
        "id": "WoKmgFBlHD4V",
        "colab_type": "code",
        "colab": {
          "base_uri": "https://localhost:8080/",
          "height": 155
        },
        "outputId": "5cacee8c-348a-407b-b23d-3d7d9451d52b"
      },
      "cell_type": "code",
      "source": [
        "xs[:cs,:cs]"
      ],
      "execution_count": 26,
      "outputs": [
        {
          "output_type": "execute_result",
          "data": {
            "text/plain": [
              "array([[40, 42, 29, 30, 25, 27, 29,  1],\n",
              "       [42, 29, 30, 25, 27, 29,  1,  1],\n",
              "       [29, 30, 25, 27, 29,  1,  1,  1],\n",
              "       [30, 25, 27, 29,  1,  1,  1, 43],\n",
              "       [25, 27, 29,  1,  1,  1, 43, 45],\n",
              "       [27, 29,  1,  1,  1, 43, 45, 40],\n",
              "       [29,  1,  1,  1, 43, 45, 40, 40],\n",
              "       [ 1,  1,  1, 43, 45, 40, 40, 39]])"
            ]
          },
          "metadata": {
            "tags": []
          },
          "execution_count": 26
        }
      ]
    },
    {
      "metadata": {
        "id": "Yzy9AwlB4rhf",
        "colab_type": "code",
        "colab": {
          "base_uri": "https://localhost:8080/",
          "height": 35
        },
        "outputId": "8203e94d-179c-429e-da05-1a4a68879c53"
      },
      "cell_type": "code",
      "source": [
        "y[:cs]"
      ],
      "execution_count": 27,
      "outputs": [
        {
          "output_type": "execute_result",
          "data": {
            "text/plain": [
              "array([ 1,  1, 43, 45, 40, 40, 39, 43])"
            ]
          },
          "metadata": {
            "tags": []
          },
          "execution_count": 27
        }
      ]
    },
    {
      "metadata": {
        "id": "uvckLQjBKpEw",
        "colab_type": "text"
      },
      "cell_type": "markdown",
      "source": [
        "### Создание и обучение модели"
      ]
    },
    {
      "metadata": {
        "id": "a-hZnDvh5MWt",
        "colab_type": "code",
        "colab": {}
      },
      "cell_type": "code",
      "source": [
        "# Валидационный набор\n",
        "val_idx = get_cv_idxs(len(idx)-cs-1)"
      ],
      "execution_count": 0,
      "outputs": []
    },
    {
      "metadata": {
        "id": "vdRP_lHK59zo",
        "colab_type": "code",
        "colab": {}
      },
      "cell_type": "code",
      "source": [
        "# Модель данных\n",
        "md = ColumnarModelData.from_arrays('.', val_idx, xs, y, bs=512)"
      ],
      "execution_count": 0,
      "outputs": []
    },
    {
      "metadata": {
        "id": "gs1juehK-Tjh",
        "colab_type": "code",
        "colab": {}
      },
      "cell_type": "code",
      "source": [
        "# Размер эмбеддинга\n",
        "n_fac = 42"
      ],
      "execution_count": 0,
      "outputs": []
    },
    {
      "metadata": {
        "id": "n6SLbWVA-i9z",
        "colab_type": "code",
        "colab": {}
      },
      "cell_type": "code",
      "source": [
        "# Размер скрытого слоя\n",
        "n_hidden = 256"
      ],
      "execution_count": 0,
      "outputs": []
    },
    {
      "metadata": {
        "id": "EX6Z6FupLPqh",
        "colab_type": "code",
        "colab": {}
      },
      "cell_type": "code",
      "source": [
        "# Описание модели\n",
        "\n",
        "class CharLoopModel(nn.Module):\n",
        "    # This is an RNN!\n",
        "    def __init__(self, vocab_size, n_fac):\n",
        "        super().__init__()\n",
        "        self.e = nn.Embedding(vocab_size, n_fac) # матрица эмбеддинга\n",
        "        self.l_in = nn.Linear(n_fac, n_hidden) # входная матрица\n",
        "        self.l_hidden = nn.Linear(n_hidden, n_hidden) # матрица скрытого слоя\n",
        "        self.l_out = nn.Linear(n_hidden, vocab_size) # выходная матрица\n",
        "        \n",
        "    def forward(self, *cs):\n",
        "        bs = cs[0].size(0) # \n",
        "        h = V(torch.zeros(bs, n_hidden).cuda()) # \n",
        "        for c in cs:\n",
        "            inp = F.relu(self.l_in(self.e(c))) # входная последовательность функций\n",
        "            h = F.tanh(self.l_hidden(h+inp)) # функция срытого слоя\n",
        "        \n",
        "        return F.log_softmax(self.l_out(h), dim=-1) # функция выходного слоя"
      ],
      "execution_count": 0,
      "outputs": []
    },
    {
      "metadata": {
        "id": "GBOEfe-XZb5w",
        "colab_type": "code",
        "colab": {
          "base_uri": "https://localhost:8080/",
          "height": 121
        },
        "outputId": "d6b18ff6-caac-4944-b7f0-b8a49ff7b036"
      },
      "cell_type": "code",
      "source": [
        "# Модель\n",
        "m = CharLoopModel(vocab_size, n_fac).cuda()\n",
        "m"
      ],
      "execution_count": 33,
      "outputs": [
        {
          "output_type": "execute_result",
          "data": {
            "text/plain": [
              "CharLoopModel(\n",
              "  (e): Embedding(85, 42)\n",
              "  (l_in): Linear(in_features=42, out_features=256, bias=True)\n",
              "  (l_hidden): Linear(in_features=256, out_features=256, bias=True)\n",
              "  (l_out): Linear(in_features=256, out_features=85, bias=True)\n",
              ")"
            ]
          },
          "metadata": {
            "tags": []
          },
          "execution_count": 33
        }
      ]
    },
    {
      "metadata": {
        "id": "S-PFk1zL-wXB",
        "colab_type": "code",
        "colab": {}
      },
      "cell_type": "code",
      "source": [
        "# Метод оптимизации\n",
        "opt = optim.Adam(m.parameters(), 1e-2)"
      ],
      "execution_count": 0,
      "outputs": []
    },
    {
      "metadata": {
        "id": "54CSdeTNgpA3",
        "colab_type": "code",
        "colab": {
          "base_uri": "https://localhost:8080/",
          "height": 104
        },
        "outputId": "dcff7d26-fab0-4c97-8749-9ad225e6ccc5"
      },
      "cell_type": "code",
      "source": [
        "# Оптимизацция\n",
        "fit(m, md, 1, opt, F.nll_loss)"
      ],
      "execution_count": 35,
      "outputs": [
        {
          "output_type": "display_data",
          "data": {
            "application/vnd.jupyter.widget-view+json": {
              "model_id": "f3c82358a97348baa85296ae1a292128",
              "version_minor": 0,
              "version_major": 2
            },
            "text/plain": [
              "HBox(children=(IntProgress(value=0, description='Epoch', max=1), HTML(value='')))"
            ]
          },
          "metadata": {
            "tags": []
          }
        },
        {
          "output_type": "stream",
          "text": [
            "epoch      trn_loss   val_loss   \n",
            "    0      2.031783   2.046997  \n",
            "\n"
          ],
          "name": "stdout"
        },
        {
          "output_type": "execute_result",
          "data": {
            "text/plain": [
              "[array([2.047])]"
            ]
          },
          "metadata": {
            "tags": []
          },
          "execution_count": 35
        }
      ]
    },
    {
      "metadata": {
        "id": "YJ0Kw3kGhFl9",
        "colab_type": "code",
        "colab": {}
      },
      "cell_type": "code",
      "source": [
        "# Изменяем скорость обучения\n",
        "set_lrs(opt, 0.001)"
      ],
      "execution_count": 0,
      "outputs": []
    },
    {
      "metadata": {
        "id": "73T44-5PhKcJ",
        "colab_type": "code",
        "colab": {
          "base_uri": "https://localhost:8080/",
          "height": 104
        },
        "outputId": "ee24ce6e-719d-439b-c2ff-c5362113254e"
      },
      "cell_type": "code",
      "source": [
        "fit(m, md, 1, opt, F.nll_loss)"
      ],
      "execution_count": 37,
      "outputs": [
        {
          "output_type": "display_data",
          "data": {
            "application/vnd.jupyter.widget-view+json": {
              "model_id": "1313df87aaa04f29a6ffe60d50dca4ca",
              "version_minor": 0,
              "version_major": 2
            },
            "text/plain": [
              "HBox(children=(IntProgress(value=0, description='Epoch', max=1), HTML(value='')))"
            ]
          },
          "metadata": {
            "tags": []
          }
        },
        {
          "output_type": "stream",
          "text": [
            "epoch      trn_loss   val_loss   \n",
            "    0      1.766367   1.768508  \n",
            "\n"
          ],
          "name": "stdout"
        },
        {
          "output_type": "execute_result",
          "data": {
            "text/plain": [
              "[array([1.76851])]"
            ]
          },
          "metadata": {
            "tags": []
          },
          "execution_count": 37
        }
      ]
    },
    {
      "metadata": {
        "id": "zNlaxWu9Dv44",
        "colab_type": "text"
      },
      "cell_type": "markdown",
      "source": [
        "### Конкатенационная модель"
      ]
    },
    {
      "metadata": {
        "id": "Ms7OVn2eCZvU",
        "colab_type": "code",
        "colab": {}
      },
      "cell_type": "code",
      "source": [
        "# Здесь объединяются данные (конкатенация) вместо сложения\n",
        "# Обратная связь уже от выхода скрытого слоя ко входу входного\n",
        "class CharLoopConcatModel(nn.Module):\n",
        "    def __init__(self, vocab_size, n_fac):\n",
        "        super().__init__()\n",
        "        self.e = nn.Embedding(vocab_size, n_fac)\n",
        "        self.l_in = nn.Linear(n_fac+n_hidden, n_hidden)\n",
        "        self.l_hidden = nn.Linear(n_hidden, n_hidden)\n",
        "        self.l_out = nn.Linear(n_hidden, vocab_size)\n",
        "        \n",
        "    def forward(self, *cs):\n",
        "        bs = cs[0].size(0)\n",
        "        h = V(torch.zeros(bs, n_hidden).cuda())\n",
        "        for c in cs:\n",
        "            inp = torch.cat((h, self.e(c)), 1)\n",
        "            inp = F.relu(self.l_in(inp))\n",
        "            h = F.tanh(self.l_hidden(inp))\n",
        "        \n",
        "        return F.log_softmax(self.l_out(h), dim=-1)"
      ],
      "execution_count": 0,
      "outputs": []
    },
    {
      "metadata": {
        "id": "2Q1yNiphDEkD",
        "colab_type": "code",
        "colab": {
          "base_uri": "https://localhost:8080/",
          "height": 121
        },
        "outputId": "68ce900c-479f-42f8-c164-259b2d1ab462"
      },
      "cell_type": "code",
      "source": [
        "# Модель и оптимизацитор\n",
        "m = CharLoopConcatModel(vocab_size, n_fac).cuda()\n",
        "opt = optim.Adam(m.parameters(), 1e-3)\n",
        "m"
      ],
      "execution_count": 39,
      "outputs": [
        {
          "output_type": "execute_result",
          "data": {
            "text/plain": [
              "CharLoopConcatModel(\n",
              "  (e): Embedding(85, 42)\n",
              "  (l_in): Linear(in_features=298, out_features=256, bias=True)\n",
              "  (l_hidden): Linear(in_features=256, out_features=256, bias=True)\n",
              "  (l_out): Linear(in_features=256, out_features=85, bias=True)\n",
              ")"
            ]
          },
          "metadata": {
            "tags": []
          },
          "execution_count": 39
        }
      ]
    },
    {
      "metadata": {
        "id": "f_4OOXhYDYkL",
        "colab_type": "code",
        "colab": {}
      },
      "cell_type": "code",
      "source": [
        "#it = iter(md.trn_dl)\n",
        "#*xs,yt = next(it)\n",
        "#t = m(*V(xs))"
      ],
      "execution_count": 0,
      "outputs": []
    },
    {
      "metadata": {
        "id": "kjWMHWeKDZuk",
        "colab_type": "code",
        "colab": {
          "base_uri": "https://localhost:8080/",
          "height": 104
        },
        "outputId": "bf285ba5-57b5-4c40-8d1d-650916c593da"
      },
      "cell_type": "code",
      "source": [
        "# Оптимизация\n",
        "fit(m, md, 1, opt, F.nll_loss)"
      ],
      "execution_count": 40,
      "outputs": [
        {
          "output_type": "display_data",
          "data": {
            "application/vnd.jupyter.widget-view+json": {
              "model_id": "6ab4425df0484b3ea9e93a4054e104c2",
              "version_minor": 0,
              "version_major": 2
            },
            "text/plain": [
              "HBox(children=(IntProgress(value=0, description='Epoch', max=1), HTML(value='')))"
            ]
          },
          "metadata": {
            "tags": []
          }
        },
        {
          "output_type": "stream",
          "text": [
            "epoch      trn_loss   val_loss   \n",
            "    0      1.815643   1.797249  \n",
            "\n"
          ],
          "name": "stdout"
        },
        {
          "output_type": "execute_result",
          "data": {
            "text/plain": [
              "[array([1.79725])]"
            ]
          },
          "metadata": {
            "tags": []
          },
          "execution_count": 40
        }
      ]
    },
    {
      "metadata": {
        "id": "5T9u5AtOELdK",
        "colab_type": "code",
        "colab": {}
      },
      "cell_type": "code",
      "source": [
        "set_lrs(opt, 1e-4)"
      ],
      "execution_count": 0,
      "outputs": []
    },
    {
      "metadata": {
        "id": "FuWvAPTUEPCA",
        "colab_type": "code",
        "colab": {
          "base_uri": "https://localhost:8080/",
          "height": 138
        },
        "outputId": "386017cd-8a46-4152-a93c-b4877ef6d3f8"
      },
      "cell_type": "code",
      "source": [
        "fit(m, md, 3, opt, F.nll_loss)"
      ],
      "execution_count": 42,
      "outputs": [
        {
          "output_type": "display_data",
          "data": {
            "application/vnd.jupyter.widget-view+json": {
              "model_id": "ad4de041b5af4b62a89da2f011495b3a",
              "version_minor": 0,
              "version_major": 2
            },
            "text/plain": [
              "HBox(children=(IntProgress(value=0, description='Epoch', max=3), HTML(value='')))"
            ]
          },
          "metadata": {
            "tags": []
          }
        },
        {
          "output_type": "stream",
          "text": [
            "epoch      trn_loss   val_loss   \n",
            "    0      1.721299   1.716826  \n",
            " 22%|██▏       | 204/939 [00:07<00:25, 28.75it/s, loss=1.7]"
          ],
          "name": "stdout"
        },
        {
          "output_type": "stream",
          "text": [
            "    1      1.681616   1.685233  \n",
            "    2      1.657473   1.659144  \n",
            "\n"
          ],
          "name": "stdout"
        },
        {
          "output_type": "execute_result",
          "data": {
            "text/plain": [
              "[array([1.65914])]"
            ]
          },
          "metadata": {
            "tags": []
          },
          "execution_count": 42
        }
      ]
    },
    {
      "metadata": {
        "id": "UPIqL01_jRAz",
        "colab_type": "text"
      },
      "cell_type": "markdown",
      "source": [
        "### PyTorch модель"
      ]
    },
    {
      "metadata": {
        "id": "SLYiFQkPjXsm",
        "colab_type": "code",
        "colab": {}
      },
      "cell_type": "code",
      "source": [
        "class CharRnn(nn.Module):\n",
        "    def __init__(self, vocab_size, n_fac):\n",
        "        super().__init__()\n",
        "        self.e = nn.Embedding(vocab_size, n_fac)\n",
        "        self.rnn = nn.RNN(n_fac, n_hidden)\n",
        "        self.l_out = nn.Linear(n_hidden, vocab_size)\n",
        "        \n",
        "    def forward(self, *cs):\n",
        "        bs = cs[0].size(0)\n",
        "        h = V(torch.zeros(1, bs, n_hidden))\n",
        "        inp = self.e(torch.stack(cs))\n",
        "        outp,h = self.rnn(inp, h)\n",
        "        # PyTorch не перезаписывает переменную \"h\",\n",
        "        # а дописывает новый слой в тензор скрытых слоёв \"outp\"\n",
        "        # outp[-1] - это последний слой тензора\n",
        "        return F.log_softmax(self.l_out(outp[-1]), dim=-1)"
      ],
      "execution_count": 0,
      "outputs": []
    },
    {
      "metadata": {
        "id": "kF3V5CdajfxK",
        "colab_type": "code",
        "colab": {
          "base_uri": "https://localhost:8080/",
          "height": 104
        },
        "outputId": "dc66c017-65c2-42fd-c313-edd9374337ee"
      },
      "cell_type": "code",
      "source": [
        "m = CharRnn(vocab_size, n_fac).cuda()\n",
        "opt = optim.Adam(m.parameters(), 1e-3)\n",
        "m"
      ],
      "execution_count": 44,
      "outputs": [
        {
          "output_type": "execute_result",
          "data": {
            "text/plain": [
              "CharRnn(\n",
              "  (e): Embedding(85, 42)\n",
              "  (rnn): RNN(42, 256)\n",
              "  (l_out): Linear(in_features=256, out_features=85, bias=True)\n",
              ")"
            ]
          },
          "metadata": {
            "tags": []
          },
          "execution_count": 44
        }
      ]
    },
    {
      "metadata": {
        "id": "dP3lGnJ7jpHM",
        "colab_type": "code",
        "colab": {}
      },
      "cell_type": "code",
      "source": [
        "#it = iter(md.trn_dl)\n",
        "#*xs,yt = next(it)"
      ],
      "execution_count": 0,
      "outputs": []
    },
    {
      "metadata": {
        "id": "ywP7-4J0j0Sf",
        "colab_type": "code",
        "colab": {}
      },
      "cell_type": "code",
      "source": [
        "#t = m.e(V(torch.stack(xs)))\n",
        "#t.size()"
      ],
      "execution_count": 0,
      "outputs": []
    },
    {
      "metadata": {
        "id": "CPZWhSScj38X",
        "colab_type": "code",
        "colab": {}
      },
      "cell_type": "code",
      "source": [
        "#ht = V(torch.zeros(1, 512,n_hidden))\n",
        "#outp, hn = m.rnn(t, ht)\n",
        "#outp.size(), hn.size()"
      ],
      "execution_count": 0,
      "outputs": []
    },
    {
      "metadata": {
        "id": "cP6pmXATj8-Z",
        "colab_type": "code",
        "colab": {}
      },
      "cell_type": "code",
      "source": [
        "#t = m(*V(xs))\n",
        "#t.size()"
      ],
      "execution_count": 0,
      "outputs": []
    },
    {
      "metadata": {
        "id": "U7V7e74IkAj1",
        "colab_type": "code",
        "colab": {
          "base_uri": "https://localhost:8080/",
          "height": 155
        },
        "outputId": "62859ebf-2f19-481d-c30f-8b138e791771"
      },
      "cell_type": "code",
      "source": [
        "fit(m, md, 4, opt, F.nll_loss)"
      ],
      "execution_count": 45,
      "outputs": [
        {
          "output_type": "display_data",
          "data": {
            "application/vnd.jupyter.widget-view+json": {
              "model_id": "8132567e6a8c469093ce7e7317e2ca1a",
              "version_minor": 0,
              "version_major": 2
            },
            "text/plain": [
              "HBox(children=(IntProgress(value=0, description='Epoch', max=4), HTML(value='')))"
            ]
          },
          "metadata": {
            "tags": []
          }
        },
        {
          "output_type": "stream",
          "text": [
            "epoch      trn_loss   val_loss   \n",
            "    0      1.887871   1.865992  \n",
            " 22%|██▏       | 211/939 [00:06<00:21, 34.61it/s, loss=1.82]"
          ],
          "name": "stdout"
        },
        {
          "output_type": "stream",
          "text": [
            "    1      1.692757   1.683696  \n"
          ],
          "name": "stdout"
        },
        {
          "output_type": "stream",
          "text": [
            "    2      1.601237   1.602984  \n",
            "    3      1.536293   1.557753  \n",
            "\n"
          ],
          "name": "stdout"
        },
        {
          "output_type": "execute_result",
          "data": {
            "text/plain": [
              "[array([1.55775])]"
            ]
          },
          "metadata": {
            "tags": []
          },
          "execution_count": 45
        }
      ]
    },
    {
      "metadata": {
        "id": "KeE_QT98dpke",
        "colab_type": "code",
        "colab": {}
      },
      "cell_type": "code",
      "source": [
        "set_lrs(opt, 1e-4)"
      ],
      "execution_count": 0,
      "outputs": []
    },
    {
      "metadata": {
        "id": "iQbZIGw_dsp3",
        "colab_type": "code",
        "colab": {
          "base_uri": "https://localhost:8080/",
          "height": 173
        },
        "outputId": "279aeada-1b93-420f-addd-1aa98f3b35f5"
      },
      "cell_type": "code",
      "source": [
        "fit(m, md, 5, opt, F.nll_loss)"
      ],
      "execution_count": 47,
      "outputs": [
        {
          "output_type": "display_data",
          "data": {
            "application/vnd.jupyter.widget-view+json": {
              "model_id": "ff6e9919cb5048a1a4dd3108b44b97f3",
              "version_minor": 0,
              "version_major": 2
            },
            "text/plain": [
              "HBox(children=(IntProgress(value=0, description='Epoch', max=5), HTML(value='')))"
            ]
          },
          "metadata": {
            "tags": []
          }
        },
        {
          "output_type": "stream",
          "text": [
            "epoch      trn_loss   val_loss   \n",
            "    0      1.468604   1.516624  \n",
            " 22%|██▏       | 211/939 [00:05<00:20, 35.34it/s, loss=1.47]"
          ],
          "name": "stdout"
        },
        {
          "output_type": "stream",
          "text": [
            "    1      1.461387   1.511086  \n"
          ],
          "name": "stdout"
        },
        {
          "output_type": "stream",
          "text": [
            "    2      1.453426   1.50749   \n"
          ],
          "name": "stdout"
        },
        {
          "output_type": "stream",
          "text": [
            "    3      1.447574   1.503609  \n",
            "    4      1.448536   1.501392  \n",
            "\n"
          ],
          "name": "stdout"
        },
        {
          "output_type": "execute_result",
          "data": {
            "text/plain": [
              "[array([1.50139])]"
            ]
          },
          "metadata": {
            "tags": []
          },
          "execution_count": 47
        }
      ]
    },
    {
      "metadata": {
        "id": "4DpvenB1L-YO",
        "colab_type": "text"
      },
      "cell_type": "markdown",
      "source": [
        "### Результаты"
      ]
    },
    {
      "metadata": {
        "id": "jQLy64-zMDgb",
        "colab_type": "code",
        "colab": {}
      },
      "cell_type": "code",
      "source": [
        "# Функция прогнозирования\n",
        "def get_next(inp):\n",
        "  # Три символа заменяются на индексы\n",
        "  # и оборачиваются в массив, после в тензор\n",
        "    idxs = T(np.array([char_indices[c] for c in inp]))\n",
        "  # затем в Variable и передаются модели\n",
        "    p = m(*VV(idxs))\n",
        "  # Возвращаем самое вероятное предсказание\n",
        "  # в формате numpy\n",
        "    i = np.argmax(to_np(p))\n",
        "    return chars[i]"
      ],
      "execution_count": 0,
      "outputs": []
    },
    {
      "metadata": {
        "id": "A8lHSFJ1MOF_",
        "colab_type": "code",
        "colab": {
          "base_uri": "https://localhost:8080/",
          "height": 35
        },
        "outputId": "75382de1-a65b-4bc8-d75f-e369a3b55aac"
      },
      "cell_type": "code",
      "source": [
        "get_next('pea')"
      ],
      "execution_count": 54,
      "outputs": [
        {
          "output_type": "execute_result",
          "data": {
            "text/plain": [
              "'s'"
            ]
          },
          "metadata": {
            "tags": []
          },
          "execution_count": 54
        }
      ]
    },
    {
      "metadata": {
        "id": "zs4on5fNelxB",
        "colab_type": "code",
        "colab": {
          "base_uri": "https://localhost:8080/",
          "height": 35
        },
        "outputId": "d8d7fd89-e0d6-4af5-9816-3a2839da8afb"
      },
      "cell_type": "code",
      "source": [
        "get_next('sig')"
      ],
      "execution_count": 59,
      "outputs": [
        {
          "output_type": "execute_result",
          "data": {
            "text/plain": [
              "'n'"
            ]
          },
          "metadata": {
            "tags": []
          },
          "execution_count": 59
        }
      ]
    },
    {
      "metadata": {
        "id": "3FFv94odfDzM",
        "colab_type": "code",
        "colab": {
          "base_uri": "https://localhost:8080/",
          "height": 35
        },
        "outputId": "37401a12-cc82-45f9-8b79-865aad27fda3"
      },
      "cell_type": "code",
      "source": [
        "get_next('. T')"
      ],
      "execution_count": 60,
      "outputs": [
        {
          "output_type": "execute_result",
          "data": {
            "text/plain": [
              "'h'"
            ]
          },
          "metadata": {
            "tags": []
          },
          "execution_count": 60
        }
      ]
    },
    {
      "metadata": {
        "id": "hlYqEBofMamt",
        "colab_type": "code",
        "colab": {}
      },
      "cell_type": "code",
      "source": [
        "# Создадим генератор текста\n",
        "def gen_text(inp, n=1):\n",
        "  result = inp\n",
        "  for _ in range(n):\n",
        "    simb = get_next(inp)\n",
        "    inp = inp[1:] + simb\n",
        "    result += simb\n",
        "  return result"
      ],
      "execution_count": 0,
      "outputs": []
    },
    {
      "metadata": {
        "id": "ogAnRr35MhFX",
        "colab_type": "code",
        "colab": {
          "base_uri": "https://localhost:8080/",
          "height": 35
        },
        "outputId": "15e75129-281a-4dd1-8d96-ebc80ed766c5"
      },
      "cell_type": "code",
      "source": [
        "gen_text('The', n=50)"
      ],
      "execution_count": 62,
      "outputs": [
        {
          "output_type": "execute_result",
          "data": {
            "text/plain": [
              "'Theress of and of and of and of and of and of and of '"
            ]
          },
          "metadata": {
            "tags": []
          },
          "execution_count": 62
        }
      ]
    },
    {
      "metadata": {
        "id": "44qBTITkMllw",
        "colab_type": "code",
        "colab": {}
      },
      "cell_type": "code",
      "source": [
        "# Создадим генератор слов\n",
        "def gen_word(inp):\n",
        "  result = inp\n",
        "  for _ in range(10):\n",
        "    simb = get_next(inp)\n",
        "    if simb == ' ': break\n",
        "    inp = inp[1:] + simb\n",
        "    result += simb\n",
        "  return result"
      ],
      "execution_count": 0,
      "outputs": []
    },
    {
      "metadata": {
        "id": "FmodVw8fMqbr",
        "colab_type": "code",
        "colab": {
          "base_uri": "https://localhost:8080/",
          "height": 35
        },
        "outputId": "4eb21c9b-d782-453a-c37d-6a3197d8d57a"
      },
      "cell_type": "code",
      "source": [
        "gen_word('app')"
      ],
      "execution_count": 63,
      "outputs": [
        {
          "output_type": "execute_result",
          "data": {
            "text/plain": [
              "'appess'"
            ]
          },
          "metadata": {
            "tags": []
          },
          "execution_count": 63
        }
      ]
    },
    {
      "metadata": {
        "id": "uKeIZrNJfV-K",
        "colab_type": "code",
        "colab": {
          "base_uri": "https://localhost:8080/",
          "height": 35
        },
        "outputId": "c0870c08-69b0-4fbc-ac70-700943605527"
      },
      "cell_type": "code",
      "source": [
        "gen_word('wor')"
      ],
      "execution_count": 64,
      "outputs": [
        {
          "output_type": "execute_result",
          "data": {
            "text/plain": [
              "'word,'"
            ]
          },
          "metadata": {
            "tags": []
          },
          "execution_count": 64
        }
      ]
    },
    {
      "metadata": {
        "id": "ZuZ0ghMhfcq-",
        "colab_type": "code",
        "colab": {
          "base_uri": "https://localhost:8080/",
          "height": 35
        },
        "outputId": "0dc90286-6e8f-47bb-ad1f-b3d22960a174"
      },
      "cell_type": "code",
      "source": [
        "gen_word('pro')"
      ],
      "execution_count": 68,
      "outputs": [
        {
          "output_type": "execute_result",
          "data": {
            "text/plain": [
              "'problems'"
            ]
          },
          "metadata": {
            "tags": []
          },
          "execution_count": 68
        }
      ]
    },
    {
      "metadata": {
        "id": "vEdddwxg0E7J",
        "colab_type": "text"
      },
      "cell_type": "markdown",
      "source": [
        "### Модель с мультивыходом"
      ]
    },
    {
      "metadata": {
        "id": "cCgFMGWtRFVm",
        "colab_type": "code",
        "colab": {}
      },
      "cell_type": "code",
      "source": [
        "# Входной набор 8 последовательностей\n",
        "c_in_dat = [[idx[i+j] for i in range(cs)] for j in range(len(idx)-cs-1)]\n",
        "# Выходной набор 8 последовательностей\n",
        "c_out_dat = [[idx[i+j] for i in range(cs)] for j in range(1, len(idx)-cs)]"
      ],
      "execution_count": 0,
      "outputs": []
    },
    {
      "metadata": {
        "id": "fgsiyEOWRRux",
        "colab_type": "code",
        "colab": {
          "base_uri": "https://localhost:8080/",
          "height": 35
        },
        "outputId": "3dee7f82-3d23-42a2-fdc2-dd52c9d6db61"
      },
      "cell_type": "code",
      "source": [
        "xs = np.stack(c_in_dat)\n",
        "xs.shape"
      ],
      "execution_count": 70,
      "outputs": [
        {
          "output_type": "execute_result",
          "data": {
            "text/plain": [
              "(600884, 8)"
            ]
          },
          "metadata": {
            "tags": []
          },
          "execution_count": 70
        }
      ]
    },
    {
      "metadata": {
        "id": "VVRsqv4gRXTp",
        "colab_type": "code",
        "colab": {
          "base_uri": "https://localhost:8080/",
          "height": 35
        },
        "outputId": "9ea2d2e5-f804-415f-ff8a-fde23ea0c460"
      },
      "cell_type": "code",
      "source": [
        "ys = np.stack(c_out_dat)\n",
        "ys.shape"
      ],
      "execution_count": 71,
      "outputs": [
        {
          "output_type": "execute_result",
          "data": {
            "text/plain": [
              "(600884, 8)"
            ]
          },
          "metadata": {
            "tags": []
          },
          "execution_count": 71
        }
      ]
    },
    {
      "metadata": {
        "id": "Nq2LadIBRYNY",
        "colab_type": "code",
        "colab": {}
      },
      "cell_type": "code",
      "source": [
        "val_idx = get_cv_idxs(len(xs)-cs-1)"
      ],
      "execution_count": 0,
      "outputs": []
    },
    {
      "metadata": {
        "id": "xWmU4rkkRiCq",
        "colab_type": "code",
        "colab": {}
      },
      "cell_type": "code",
      "source": [
        "md = ColumnarModelData.from_arrays('.', val_idx, xs, ys, bs=512)"
      ],
      "execution_count": 0,
      "outputs": []
    },
    {
      "metadata": {
        "id": "NLXuuVu5QL5P",
        "colab_type": "code",
        "colab": {}
      },
      "cell_type": "code",
      "source": [
        "class CharLoopConcatModelMultiout(nn.Module):\n",
        "    def __init__(self, vocab_size, n_fac):\n",
        "        super().__init__()\n",
        "        self.e = nn.Embedding(vocab_size, n_fac)\n",
        "        self.l_in = nn.Linear(n_fac+n_hidden, n_hidden)\n",
        "        self.l_hidden = nn.Linear(n_hidden, n_hidden)\n",
        "        self.l_out = nn.Linear(n_hidden, vocab_size)\n",
        "        \n",
        "    def forward(self, *cs):\n",
        "        bs = cs[0].size(0)\n",
        "        h = V(torch.zeros(bs, n_hidden).cuda())\n",
        "        res = []\n",
        "        for c in cs:\n",
        "            inp = torch.cat((h, self.e(c)), 1)\n",
        "            inp = F.relu(self.l_in(inp))\n",
        "            h = F.tanh(self.l_hidden(inp))\n",
        "            res.append(F.log_softmax(self.l_out(h), dim=-1))\n",
        "        \n",
        "        return torch.stack(res)"
      ],
      "execution_count": 0,
      "outputs": []
    },
    {
      "metadata": {
        "id": "vOLaS1OPQsEK",
        "colab_type": "code",
        "colab": {
          "base_uri": "https://localhost:8080/",
          "height": 121
        },
        "outputId": "2ec0a685-5f69-49e8-bc9b-4ede184b4bd9"
      },
      "cell_type": "code",
      "source": [
        "m = CharLoopConcatModelMultiout(vocab_size, n_fac).cuda()\n",
        "opt = optim.Adam(m.parameters(), 1e-3)\n",
        "m"
      ],
      "execution_count": 75,
      "outputs": [
        {
          "output_type": "execute_result",
          "data": {
            "text/plain": [
              "CharLoopConcatModelMultiout(\n",
              "  (e): Embedding(85, 42)\n",
              "  (l_in): Linear(in_features=298, out_features=256, bias=True)\n",
              "  (l_hidden): Linear(in_features=256, out_features=256, bias=True)\n",
              "  (l_out): Linear(in_features=256, out_features=85, bias=True)\n",
              ")"
            ]
          },
          "metadata": {
            "tags": []
          },
          "execution_count": 75
        }
      ]
    },
    {
      "metadata": {
        "id": "cVw5AA4FQwQ7",
        "colab_type": "code",
        "colab": {}
      },
      "cell_type": "code",
      "source": [
        "# Своя функция потерь.\n",
        "# Приниимает на входе 2 минибатча векторов (тензоров второго ранга),\n",
        "# а у нас прогноз 8 символов, для каждого 84% вероятностей символов,\n",
        "# и так 512 раз в наборе минибатча (это тензор третьего ранга).\n",
        "# Функция перекрёстной энтропии от PyTorch будет выдавать ошибку\n",
        "def nll_loss_seq(inp, targ):\n",
        "    sl,bs,nh = inp.size() # размеры тензора предсказаний\n",
        "    # sl - глубина рекурсии (8)\n",
        "    # bs - размер минибатча (512)\n",
        "    # nh - размер словаря (85)\n",
        "    # размер inp [4, 512, 85]\n",
        "    # размер targ [512, 4]\n",
        "    # транспортируем target и перезаписываем (contiguous())\n",
        "    targ = targ.transpose(0,1).contiguous() # теперь [4, 512]\n",
        "    # Теперь возвращаем функцию перекрёстной энтропии\n",
        "    # аргументы которой - копии преобразованных тензоров(view())\n",
        "    # -1 - это отсутствие ограничений длины результата\n",
        "    return F.nll_loss(inp.view(-1,nh), targ.view(-1)) # nh - ограничеваем по этой оси"
      ],
      "execution_count": 0,
      "outputs": []
    },
    {
      "metadata": {
        "id": "CdZfuhpyQ3vR",
        "colab_type": "code",
        "colab": {
          "base_uri": "https://localhost:8080/",
          "height": 173
        },
        "outputId": "e53fd159-d363-4476-c9ab-54faff16061b"
      },
      "cell_type": "code",
      "source": [
        "fit(m, md, 5, opt, nll_loss_seq)"
      ],
      "execution_count": 77,
      "outputs": [
        {
          "output_type": "display_data",
          "data": {
            "application/vnd.jupyter.widget-view+json": {
              "model_id": "bed9f0b0eb684af9b31a7567c1e7f781",
              "version_minor": 0,
              "version_major": 2
            },
            "text/plain": [
              "HBox(children=(IntProgress(value=0, description='Epoch', max=5), HTML(value='')))"
            ]
          },
          "metadata": {
            "tags": []
          }
        },
        {
          "output_type": "stream",
          "text": [
            "epoch      trn_loss   val_loss   \n",
            "    0      1.910652   1.89644   \n",
            " 21%|██        | 197/939 [00:07<00:26, 28.11it/s, loss=1.87]"
          ],
          "name": "stdout"
        },
        {
          "output_type": "stream",
          "text": [
            "    1      1.790027   1.785903  \n"
          ],
          "name": "stdout"
        },
        {
          "output_type": "stream",
          "text": [
            "    2      1.731856   1.727102  \n"
          ],
          "name": "stdout"
        },
        {
          "output_type": "stream",
          "text": [
            "    3      1.696875   1.699761  \n",
            "    4      1.676653   1.678817  \n",
            "\n"
          ],
          "name": "stdout"
        },
        {
          "output_type": "execute_result",
          "data": {
            "text/plain": [
              "[array([1.67882])]"
            ]
          },
          "metadata": {
            "tags": []
          },
          "execution_count": 77
        }
      ]
    },
    {
      "metadata": {
        "id": "IcRg380WBZKB",
        "colab_type": "text"
      },
      "cell_type": "markdown",
      "source": [
        "### Теперь разбиваем данные без наложений"
      ]
    },
    {
      "metadata": {
        "id": "eSUuKmc_B6jj",
        "colab_type": "code",
        "colab": {}
      },
      "cell_type": "code",
      "source": [
        "cs=4"
      ],
      "execution_count": 0,
      "outputs": []
    },
    {
      "metadata": {
        "id": "ZIFgLWuFBRxT",
        "colab_type": "code",
        "colab": {}
      },
      "cell_type": "code",
      "source": [
        "# Наборы входных и выходных данных без наложения\n",
        "c_in_dat = [[idx[i+j] for i in range(cs)] for j in range(0, len(idx)-cs-1, cs)]\n",
        "c_out_dat = [[idx[i+j] for i in range(cs)] for j in range(1, len(idx)-cs, cs)]"
      ],
      "execution_count": 0,
      "outputs": []
    },
    {
      "metadata": {
        "id": "Lgr_fEzKBu8e",
        "colab_type": "code",
        "colab": {
          "base_uri": "https://localhost:8080/",
          "height": 35
        },
        "outputId": "d87445c7-4211-4be0-c4c4-2318c1b9dab0"
      },
      "cell_type": "code",
      "source": [
        "xs = np.stack(c_in_dat)\n",
        "xs.shape"
      ],
      "execution_count": 86,
      "outputs": [
        {
          "output_type": "execute_result",
          "data": {
            "text/plain": [
              "(150222, 4)"
            ]
          },
          "metadata": {
            "tags": []
          },
          "execution_count": 86
        }
      ]
    },
    {
      "metadata": {
        "id": "J2XcH0U8CADA",
        "colab_type": "code",
        "colab": {
          "base_uri": "https://localhost:8080/",
          "height": 35
        },
        "outputId": "c9828df1-52e2-462f-cfaa-36cda666f95f"
      },
      "cell_type": "code",
      "source": [
        "ys = np.stack(c_out_dat)\n",
        "ys.shape"
      ],
      "execution_count": 87,
      "outputs": [
        {
          "output_type": "execute_result",
          "data": {
            "text/plain": [
              "(150222, 4)"
            ]
          },
          "metadata": {
            "tags": []
          },
          "execution_count": 87
        }
      ]
    },
    {
      "metadata": {
        "id": "Qot6q-tJCHHo",
        "colab_type": "code",
        "colab": {
          "base_uri": "https://localhost:8080/",
          "height": 86
        },
        "outputId": "3a9be01f-5457-4fca-d9f0-f5981a0b702f"
      },
      "cell_type": "code",
      "source": [
        "xs[:cs,:cs]"
      ],
      "execution_count": 88,
      "outputs": [
        {
          "output_type": "execute_result",
          "data": {
            "text/plain": [
              "array([[40, 42, 29, 30],\n",
              "       [25, 27, 29,  1],\n",
              "       [ 1,  1, 43, 45],\n",
              "       [40, 40, 39, 43]])"
            ]
          },
          "metadata": {
            "tags": []
          },
          "execution_count": 88
        }
      ]
    },
    {
      "metadata": {
        "id": "GByuZbHHCKe8",
        "colab_type": "code",
        "colab": {
          "base_uri": "https://localhost:8080/",
          "height": 86
        },
        "outputId": "f86c9295-c415-4462-b3d6-33b4d1b219ba"
      },
      "cell_type": "code",
      "source": [
        "ys[:cs,:cs]"
      ],
      "execution_count": 89,
      "outputs": [
        {
          "output_type": "execute_result",
          "data": {
            "text/plain": [
              "array([[42, 29, 30, 25],\n",
              "       [27, 29,  1,  1],\n",
              "       [ 1, 43, 45, 40],\n",
              "       [40, 39, 43, 33]])"
            ]
          },
          "metadata": {
            "tags": []
          },
          "execution_count": 89
        }
      ]
    },
    {
      "metadata": {
        "id": "dTvHi1x_COSb",
        "colab_type": "code",
        "colab": {}
      },
      "cell_type": "code",
      "source": [
        "val_idx = get_cv_idxs(len(xs)-cs-1)"
      ],
      "execution_count": 0,
      "outputs": []
    },
    {
      "metadata": {
        "id": "JYb02QVDCRzS",
        "colab_type": "code",
        "colab": {}
      },
      "cell_type": "code",
      "source": [
        "md = ColumnarModelData.from_arrays('.', val_idx, xs, ys, bs=512)"
      ],
      "execution_count": 0,
      "outputs": []
    },
    {
      "metadata": {
        "id": "VUbH72bX0SQC",
        "colab_type": "code",
        "colab": {}
      },
      "cell_type": "code",
      "source": [
        "class CharLoopConcatModelMultiout2(nn.Module):\n",
        "    def __init__(self, vocab_size, n_fac):\n",
        "        super().__init__()\n",
        "        self.e = nn.Embedding(vocab_size, n_fac)\n",
        "        self.l_in = nn.Linear(n_fac+n_hidden, n_hidden)\n",
        "        self.l_hidden = nn.Linear(n_hidden, n_hidden)\n",
        "        self.l_out = nn.Linear(n_hidden, vocab_size)\n",
        "        \n",
        "    def forward(self, *cs):\n",
        "        bs = cs[0].size(0)\n",
        "        h = V(torch.zeros(bs, n_hidden).cuda())\n",
        "        res = []\n",
        "        for c in cs:\n",
        "            inp = torch.cat((h, self.e(c)), 1)\n",
        "            inp = F.relu(self.l_in(inp))\n",
        "            h = F.tanh(self.l_hidden(inp))\n",
        "            res.append(F.log_softmax(self.l_out(h), dim=-1))\n",
        "        \n",
        "        return torch.stack(res)"
      ],
      "execution_count": 0,
      "outputs": []
    },
    {
      "metadata": {
        "id": "zDeUaBQQCbNx",
        "colab_type": "code",
        "colab": {
          "base_uri": "https://localhost:8080/",
          "height": 121
        },
        "outputId": "69b892b1-6d8b-42d6-fffb-0e0d6723e1ec"
      },
      "cell_type": "code",
      "source": [
        "m = CharLoopConcatModelMultiout2(vocab_size, n_fac).cuda()\n",
        "opt = optim.Adam(m.parameters(), 1e-3)\n",
        "m"
      ],
      "execution_count": 95,
      "outputs": [
        {
          "output_type": "execute_result",
          "data": {
            "text/plain": [
              "CharLoopConcatModelMultiout2(\n",
              "  (e): Embedding(85, 42)\n",
              "  (l_in): Linear(in_features=298, out_features=256, bias=True)\n",
              "  (l_hidden): Linear(in_features=256, out_features=256, bias=True)\n",
              "  (l_out): Linear(in_features=256, out_features=85, bias=True)\n",
              ")"
            ]
          },
          "metadata": {
            "tags": []
          },
          "execution_count": 95
        }
      ]
    },
    {
      "metadata": {
        "id": "SYMzcx_MDYzg",
        "colab_type": "code",
        "colab": {}
      },
      "cell_type": "code",
      "source": [
        "#it = iter(md.trn_dl)\n",
        "#*xst,yt = next(it)"
      ],
      "execution_count": 0,
      "outputs": []
    },
    {
      "metadata": {
        "id": "yoOwjKezC09e",
        "colab_type": "code",
        "colab": {}
      },
      "cell_type": "code",
      "source": [
        "# Своя функция потерь\n",
        "# 6 видеолекция (2:02:00)\n",
        "def nll_loss_seq(inp, targ):\n",
        "    sl,bs,nh = inp.size() # размеры тензора предсказаний\n",
        "    targ = targ.transpose(0,1).contiguous().view(-1)\n",
        "    return F.nll_loss(inp.view(-1,nh), targ)"
      ],
      "execution_count": 0,
      "outputs": []
    },
    {
      "metadata": {
        "id": "YoTSu7OUCpSj",
        "colab_type": "code",
        "colab": {
          "base_uri": "https://localhost:8080/",
          "height": 173
        },
        "outputId": "8b27ec96-6cff-4829-bd33-4e3113193d4e"
      },
      "cell_type": "code",
      "source": [
        "fit(m, md, 5, opt, nll_loss_seq)"
      ],
      "execution_count": 98,
      "outputs": [
        {
          "output_type": "display_data",
          "data": {
            "application/vnd.jupyter.widget-view+json": {
              "model_id": "500dc485d3d04422a229175b52a29998",
              "version_minor": 0,
              "version_major": 2
            },
            "text/plain": [
              "HBox(children=(IntProgress(value=0, description='Epoch', max=5), HTML(value='')))"
            ]
          },
          "metadata": {
            "tags": []
          }
        },
        {
          "output_type": "stream",
          "text": [
            "epoch      trn_loss   val_loss   \n",
            "    0      2.367091   2.290382  \n",
            "    1      2.176948   2.155048  \n",
            "    2      2.098328   2.096423  \n",
            "  6%|▌         | 13/235 [00:00<00:06, 32.46it/s, loss=2.09]"
          ],
          "name": "stdout"
        },
        {
          "output_type": "stream",
          "text": [
            "    3      2.056387   2.060167  \n",
            "    4      2.030053   2.042682  \n",
            "\n"
          ],
          "name": "stdout"
        },
        {
          "output_type": "execute_result",
          "data": {
            "text/plain": [
              "[array([2.04268])]"
            ]
          },
          "metadata": {
            "tags": []
          },
          "execution_count": 98
        }
      ]
    },
    {
      "metadata": {
        "id": "0hN77gGLDFfD",
        "colab_type": "code",
        "colab": {}
      },
      "cell_type": "code",
      "source": [
        "set_lrs(opt, 1e-2)"
      ],
      "execution_count": 0,
      "outputs": []
    },
    {
      "metadata": {
        "id": "BP4GPaLjDKX4",
        "colab_type": "code",
        "colab": {
          "base_uri": "https://localhost:8080/",
          "height": 173
        },
        "outputId": "1ea40287-c234-4003-b741-a046ae2adb8f"
      },
      "cell_type": "code",
      "source": [
        "fit(m, md, 5, opt, nll_loss_seq)"
      ],
      "execution_count": 100,
      "outputs": [
        {
          "output_type": "display_data",
          "data": {
            "application/vnd.jupyter.widget-view+json": {
              "model_id": "f7fb8bb8ae7e492da406283718ec7ca5",
              "version_minor": 0,
              "version_major": 2
            },
            "text/plain": [
              "HBox(children=(IntProgress(value=0, description='Epoch', max=5), HTML(value='')))"
            ]
          },
          "metadata": {
            "tags": []
          }
        },
        {
          "output_type": "stream",
          "text": [
            "epoch      trn_loss   val_loss   \n",
            "    0      2.166939   2.135962  \n",
            "    1      2.099563   2.101177  \n",
            "    2      2.073298   2.08638   \n",
            "  6%|▌         | 13/235 [00:00<00:06, 31.99it/s, loss=2.07]"
          ],
          "name": "stdout"
        },
        {
          "output_type": "stream",
          "text": [
            "    3      2.069094   2.079043  \n",
            "    4      2.060921   2.082815  \n",
            "\n"
          ],
          "name": "stdout"
        },
        {
          "output_type": "execute_result",
          "data": {
            "text/plain": [
              "[array([2.08281])]"
            ]
          },
          "metadata": {
            "tags": []
          },
          "execution_count": 100
        }
      ]
    },
    {
      "metadata": {
        "id": "kgTfDedvi0nI",
        "colab_type": "code",
        "colab": {}
      },
      "cell_type": "code",
      "source": [
        "set_lrs(opt, 1e-3)"
      ],
      "execution_count": 0,
      "outputs": []
    },
    {
      "metadata": {
        "id": "HV-a0_s0i51w",
        "colab_type": "code",
        "colab": {
          "base_uri": "https://localhost:8080/",
          "height": 173
        },
        "outputId": "66bcc346-3acb-4782-b844-690521634a08"
      },
      "cell_type": "code",
      "source": [
        "fit(m, md, 5, opt, nll_loss_seq)"
      ],
      "execution_count": 102,
      "outputs": [
        {
          "output_type": "display_data",
          "data": {
            "application/vnd.jupyter.widget-view+json": {
              "model_id": "036a65268a8b49d8941963214a31be5a",
              "version_minor": 0,
              "version_major": 2
            },
            "text/plain": [
              "HBox(children=(IntProgress(value=0, description='Epoch', max=5), HTML(value='')))"
            ]
          },
          "metadata": {
            "tags": []
          }
        },
        {
          "output_type": "stream",
          "text": [
            "epoch      trn_loss   val_loss   \n",
            "    0      1.959623   1.985201  \n",
            "    1      1.949432   1.977318  \n",
            "    2      1.944148   1.970504  \n",
            "  6%|▌         | 13/235 [00:00<00:06, 32.37it/s, loss=1.94]"
          ],
          "name": "stdout"
        },
        {
          "output_type": "stream",
          "text": [
            "    3      1.928895   1.967703  \n",
            "    4      1.92444    1.966207  \n",
            "\n"
          ],
          "name": "stdout"
        },
        {
          "output_type": "execute_result",
          "data": {
            "text/plain": [
              "[array([1.96621])]"
            ]
          },
          "metadata": {
            "tags": []
          },
          "execution_count": 102
        }
      ]
    },
    {
      "metadata": {
        "id": "BSmStvD2jEiE",
        "colab_type": "code",
        "colab": {
          "base_uri": "https://localhost:8080/",
          "height": 173
        },
        "outputId": "f477e4b1-3226-4f68-959a-3eb5ca234070"
      },
      "cell_type": "code",
      "source": [
        "fit(m, md, 5, opt, nll_loss_seq)"
      ],
      "execution_count": 103,
      "outputs": [
        {
          "output_type": "display_data",
          "data": {
            "application/vnd.jupyter.widget-view+json": {
              "model_id": "dd7be25d082942fdaa240a697217170e",
              "version_minor": 0,
              "version_major": 2
            },
            "text/plain": [
              "HBox(children=(IntProgress(value=0, description='Epoch', max=5), HTML(value='')))"
            ]
          },
          "metadata": {
            "tags": []
          }
        },
        {
          "output_type": "stream",
          "text": [
            "epoch      trn_loss   val_loss   \n",
            "    0      1.924482   1.962492  \n",
            "    1      1.915821   1.958843  \n",
            "    2      1.912758   1.957122  \n",
            "  6%|▌         | 13/235 [00:00<00:06, 32.55it/s, loss=1.91]"
          ],
          "name": "stdout"
        },
        {
          "output_type": "stream",
          "text": [
            "    3      1.913359   1.954231  \n",
            "    4      1.906833   1.95323   \n",
            "\n"
          ],
          "name": "stdout"
        },
        {
          "output_type": "execute_result",
          "data": {
            "text/plain": [
              "[array([1.95323])]"
            ]
          },
          "metadata": {
            "tags": []
          },
          "execution_count": 103
        }
      ]
    },
    {
      "metadata": {
        "id": "O3mrSEGXViyr",
        "colab_type": "text"
      },
      "cell_type": "markdown",
      "source": [
        "### PyTorch модель с мультивыходом"
      ]
    },
    {
      "metadata": {
        "id": "sPTVCM8GD4qh",
        "colab_type": "code",
        "colab": {}
      },
      "cell_type": "code",
      "source": [
        "class CharSeqRnn(nn.Module):\n",
        "    def __init__(self, vocab_size, n_fac):\n",
        "        super().__init__()\n",
        "        self.e = nn.Embedding(vocab_size, n_fac)\n",
        "        self.rnn = nn.RNN(n_fac, n_hidden)\n",
        "        self.l_out = nn.Linear(n_hidden, vocab_size)\n",
        "        \n",
        "    def forward(self, *cs):\n",
        "        bs = cs[0].size(0)\n",
        "        h = V(torch.zeros(1, bs, n_hidden))\n",
        "        inp = self.e(torch.stack(cs))\n",
        "        outp,h = self.rnn(inp, h)\n",
        "        return F.log_softmax(self.l_out(outp), dim=-1)"
      ],
      "execution_count": 0,
      "outputs": []
    },
    {
      "metadata": {
        "id": "nth9ScTPECuX",
        "colab_type": "code",
        "colab": {
          "base_uri": "https://localhost:8080/",
          "height": 104
        },
        "outputId": "8e4f6347-6a7a-4164-ef25-3efb61b243bc"
      },
      "cell_type": "code",
      "source": [
        "m = CharSeqRnn(vocab_size, n_fac).cuda()\n",
        "opt = optim.Adam(m.parameters(), 1e-2)\n",
        "m"
      ],
      "execution_count": 111,
      "outputs": [
        {
          "output_type": "execute_result",
          "data": {
            "text/plain": [
              "CharSeqRnn(\n",
              "  (e): Embedding(85, 42)\n",
              "  (rnn): RNN(42, 256)\n",
              "  (l_out): Linear(in_features=256, out_features=85, bias=True)\n",
              ")"
            ]
          },
          "metadata": {
            "tags": []
          },
          "execution_count": 111
        }
      ]
    },
    {
      "metadata": {
        "id": "BXfhSASyEHU5",
        "colab_type": "code",
        "colab": {
          "base_uri": "https://localhost:8080/",
          "height": 173
        },
        "outputId": "6fd21c0c-04b3-4c67-c54b-a86d6ebdcd7e"
      },
      "cell_type": "code",
      "source": [
        "fit(m, md, 5, opt, nll_loss_seq)"
      ],
      "execution_count": 112,
      "outputs": [
        {
          "output_type": "display_data",
          "data": {
            "application/vnd.jupyter.widget-view+json": {
              "model_id": "e3ef198d404242e4aa1002460a909b0f",
              "version_minor": 0,
              "version_major": 2
            },
            "text/plain": [
              "HBox(children=(IntProgress(value=0, description='Epoch', max=5), HTML(value='')))"
            ]
          },
          "metadata": {
            "tags": []
          }
        },
        {
          "output_type": "stream",
          "text": [
            "epoch      trn_loss   val_loss   \n",
            "    0      2.182635   2.165476  \n",
            "    1      2.109993   2.128109  \n",
            "    2      2.07522    2.09119   \n",
            "  7%|▋         | 16/235 [00:00<00:05, 38.84it/s, loss=2.07]"
          ],
          "name": "stdout"
        },
        {
          "output_type": "stream",
          "text": [
            "    3      2.062829   2.079025  \n",
            "    4      2.050527   2.067003  \n",
            "\n"
          ],
          "name": "stdout"
        },
        {
          "output_type": "execute_result",
          "data": {
            "text/plain": [
              "[array([2.067])]"
            ]
          },
          "metadata": {
            "tags": []
          },
          "execution_count": 112
        }
      ]
    },
    {
      "metadata": {
        "id": "EROMH2YhEQXF",
        "colab_type": "code",
        "colab": {}
      },
      "cell_type": "code",
      "source": [
        "set_lrs(opt, 1e-3)"
      ],
      "execution_count": 0,
      "outputs": []
    },
    {
      "metadata": {
        "id": "levKj2YCETGA",
        "colab_type": "code",
        "colab": {
          "base_uri": "https://localhost:8080/",
          "height": 259
        },
        "outputId": "cb9175b1-8a0a-4138-96c1-df0a89025e52"
      },
      "cell_type": "code",
      "source": [
        "fit(m, md, 10, opt, nll_loss_seq)"
      ],
      "execution_count": 114,
      "outputs": [
        {
          "output_type": "display_data",
          "data": {
            "application/vnd.jupyter.widget-view+json": {
              "model_id": "b84e09ad5fcf4cd187833fc988fdd6a7",
              "version_minor": 0,
              "version_major": 2
            },
            "text/plain": [
              "HBox(children=(IntProgress(value=0, description='Epoch', max=10), HTML(value='')))"
            ]
          },
          "metadata": {
            "tags": []
          }
        },
        {
          "output_type": "stream",
          "text": [
            "epoch      trn_loss   val_loss   \n",
            "    0      1.936969   1.987199  \n",
            "    1      1.927007   1.978889  \n",
            "    2      1.923454   1.974437  \n",
            "  9%|▉         | 21/235 [00:00<00:05, 42.50it/s, loss=1.92]"
          ],
          "name": "stdout"
        },
        {
          "output_type": "stream",
          "text": [
            "    3      1.913069   1.973183  \n",
            "    4      1.912672   1.969758  \n",
            "    5      1.905313   1.968144  \n",
            " 56%|█████▌    | 132/235 [00:02<00:02, 46.44it/s, loss=1.9]"
          ],
          "name": "stdout"
        },
        {
          "output_type": "stream",
          "text": [
            "    6      1.906057   1.968326  \n",
            "    7      1.896731   1.967235  \n",
            "    8      1.894914   1.964288  \n",
            " 73%|███████▎  | 172/235 [00:03<00:01, 45.78it/s, loss=1.89]"
          ],
          "name": "stdout"
        },
        {
          "output_type": "stream",
          "text": [
            "    9      1.889866   1.964123  \n",
            "\n"
          ],
          "name": "stdout"
        },
        {
          "output_type": "execute_result",
          "data": {
            "text/plain": [
              "[array([1.96412])]"
            ]
          },
          "metadata": {
            "tags": []
          },
          "execution_count": 114
        }
      ]
    },
    {
      "metadata": {
        "id": "vD82Zb1uhoQP",
        "colab_type": "text"
      },
      "cell_type": "markdown",
      "source": [
        "### Результаты"
      ]
    },
    {
      "metadata": {
        "id": "lZ6c11TZhvBk",
        "colab_type": "code",
        "colab": {}
      },
      "cell_type": "code",
      "source": [
        "# Функция прогнозирования\n",
        "def getnext(inp):\n",
        "  # Три символа заменяются на индексы\n",
        "  # и оборачиваются в массив, после в тензор\n",
        "    idxs = T(np.array([char_indices[c] for c in inp]))\n",
        "  # затем в Variable и передаются модели\n",
        "    p = m(*VV(idxs))\n",
        "  # Возвращаем самое вероятное предсказание\n",
        "  # в формате numpy\n",
        "    i = np.argmax(to_np(p))\n",
        "    out = ''\n",
        "    for i in range(len(p)):\n",
        "      out += chars[np.argmax(to_np(p[i]))]\n",
        "    return out"
      ],
      "execution_count": 0,
      "outputs": []
    },
    {
      "metadata": {
        "id": "lTJpWtt-jrBu",
        "colab_type": "text"
      },
      "cell_type": "markdown",
      "source": [
        "**Пробуем**"
      ]
    },
    {
      "metadata": {
        "id": "Xfdf_W-mjoY3",
        "colab_type": "code",
        "colab": {
          "base_uri": "https://localhost:8080/",
          "height": 35
        },
        "outputId": "8c78b94f-f560-482f-a247-e7fe5c8dec77"
      },
      "cell_type": "code",
      "source": [
        "getnext('for')"
      ],
      "execution_count": 116,
      "outputs": [
        {
          "output_type": "execute_result",
          "data": {
            "text/plain": [
              "' r '"
            ]
          },
          "metadata": {
            "tags": []
          },
          "execution_count": 116
        }
      ]
    },
    {
      "metadata": {
        "id": "OBwiBTg0j3WG",
        "colab_type": "code",
        "colab": {
          "base_uri": "https://localhost:8080/",
          "height": 35
        },
        "outputId": "269a0c44-109d-490a-893a-213dfd64ccfc"
      },
      "cell_type": "code",
      "source": [
        "getnext('par')"
      ],
      "execution_count": 117,
      "outputs": [
        {
          "output_type": "execute_result",
          "data": {
            "text/plain": [
              "'ert'"
            ]
          },
          "metadata": {
            "tags": []
          },
          "execution_count": 117
        }
      ]
    },
    {
      "metadata": {
        "id": "DvLBhMP4j9pU",
        "colab_type": "code",
        "colab": {
          "base_uri": "https://localhost:8080/",
          "height": 35
        },
        "outputId": "379f1bed-a3a6-4480-b70c-5811628d7660"
      },
      "cell_type": "code",
      "source": [
        "getnext('que')"
      ],
      "execution_count": 118,
      "outputs": [
        {
          "output_type": "execute_result",
          "data": {
            "text/plain": [
              "'ues'"
            ]
          },
          "metadata": {
            "tags": []
          },
          "execution_count": 118
        }
      ]
    },
    {
      "metadata": {
        "id": "vzPLdhr9kAhB",
        "colab_type": "code",
        "colab": {}
      },
      "cell_type": "code",
      "source": [
        "# Создадим генератор текста\n",
        "def gentext(inp, cs, n=1):\n",
        "  result = inp[:cs]\n",
        "  for _ in range(n):\n",
        "    simb = getnext(inp)\n",
        "    inp = inp[1:] + simb\n",
        "    result += simb\n",
        "  return result"
      ],
      "execution_count": 0,
      "outputs": []
    },
    {
      "metadata": {
        "id": "jIAUkWvWmRyT",
        "colab_type": "code",
        "colab": {
          "base_uri": "https://localhost:8080/",
          "height": 35
        },
        "outputId": "c5dde8fe-848c-4c54-d64a-93be992cdead"
      },
      "cell_type": "code",
      "source": [
        "gentext('On ', cs, n=5)"
      ],
      "execution_count": 120,
      "outputs": [
        {
          "output_type": "execute_result",
          "data": {
            "text/plain": [
              "'On net toe toc th to shoh toh roheth  hth toh roheth taoueah ateoerhea'"
            ]
          },
          "metadata": {
            "tags": []
          },
          "execution_count": 120
        }
      ]
    },
    {
      "metadata": {
        "id": "vdH_6GVc2BJd",
        "colab_type": "text"
      },
      "cell_type": "markdown",
      "source": [
        "### Предотвращение градиентного взрыва"
      ]
    },
    {
      "metadata": {
        "id": "EcLAJFBf2Duf",
        "colab_type": "code",
        "colab": {
          "base_uri": "https://localhost:8080/",
          "height": 102
        },
        "outputId": "0cd3918e-9ec9-4693-87b9-2911f7b5f525"
      },
      "cell_type": "code",
      "source": [
        "# При создании модели матрицы наполняются рандомом\n",
        "m = CharSeqRnn(vocab_size, n_fac).cuda()\n",
        "opt = optim.Adam(m.parameters(), 1e-3)\n",
        "m"
      ],
      "execution_count": 145,
      "outputs": [
        {
          "output_type": "execute_result",
          "data": {
            "text/plain": [
              "CharSeqRnn(\n",
              "  (e): Embedding(85, 42)\n",
              "  (rnn): RNN(42, 256)\n",
              "  (l_out): Linear(in_features=256, out_features=85, bias=True)\n",
              ")"
            ]
          },
          "metadata": {
            "tags": []
          },
          "execution_count": 145
        }
      ]
    },
    {
      "metadata": {
        "id": "lsCLOiQE2IsT",
        "colab_type": "code",
        "colab": {
          "base_uri": "https://localhost:8080/",
          "height": 170
        },
        "outputId": "6e9377e2-d442-46d9-fbb0-cd43884c21d3"
      },
      "cell_type": "code",
      "source": [
        "# Инициализация скрытого слоя self.l_hidden (nn.Linear(n_hidden, n_hidden))\n",
        "# не рандомом а единичной разряженной матрицей - улучшает модель\n",
        "# Адрес поля матрицы \"weight_hh_l0\" можно посмотреть в справке \"?m.rnn\"\n",
        "m.rnn.weight_hh_l0.data.copy_(torch.eye(n_hidden))"
      ],
      "execution_count": 146,
      "outputs": [
        {
          "output_type": "execute_result",
          "data": {
            "text/plain": [
              "\n",
              "    1     0     0  ...      0     0     0\n",
              "    0     1     0  ...      0     0     0\n",
              "    0     0     1  ...      0     0     0\n",
              "       ...          ⋱          ...       \n",
              "    0     0     0  ...      1     0     0\n",
              "    0     0     0  ...      0     1     0\n",
              "    0     0     0  ...      0     0     1\n",
              "[torch.cuda.FloatTensor of size 256x256 (GPU 0)]"
            ]
          },
          "metadata": {
            "tags": []
          },
          "execution_count": 146
        }
      ]
    },
    {
      "metadata": {
        "id": "26ejCHfO2buH",
        "colab_type": "code",
        "colab": {}
      },
      "cell_type": "code",
      "source": [
        "# Теперь скорость обучения можно увеличить\n",
        "set_lrs(opt, 1e-2)"
      ],
      "execution_count": 0,
      "outputs": []
    },
    {
      "metadata": {
        "id": "bBuZfKna2mng",
        "colab_type": "code",
        "colab": {
          "base_uri": "https://localhost:8080/",
          "height": 170
        },
        "outputId": "19387848-98f9-4cc1-ee83-522f551f8785"
      },
      "cell_type": "code",
      "source": [
        "fit(m, md, 5, opt, nll_loss_seq)"
      ],
      "execution_count": 148,
      "outputs": [
        {
          "output_type": "display_data",
          "data": {
            "application/vnd.jupyter.widget-view+json": {
              "model_id": "68e5211cbb7c40fea2d2ee40c4d1f751",
              "version_minor": 0,
              "version_major": 2
            },
            "text/plain": [
              "HBox(children=(IntProgress(value=0, description='Epoch', max=5), HTML(value='')))"
            ]
          },
          "metadata": {
            "tags": []
          }
        },
        {
          "output_type": "stream",
          "text": [
            "epoch      trn_loss   val_loss   \n",
            "    0      2.195997   2.162389  \n",
            "    1      2.111458   2.115901  \n",
            "    2      2.08745    2.106427  \n",
            "  7%|▋         | 16/235 [00:00<00:05, 39.42it/s, loss=2.08]"
          ],
          "name": "stdout"
        },
        {
          "output_type": "stream",
          "text": [
            "    3      2.061268   2.092948  \n",
            "    4      2.057216   2.08431   \n",
            "\n"
          ],
          "name": "stdout"
        },
        {
          "output_type": "execute_result",
          "data": {
            "text/plain": [
              "[array([2.08431])]"
            ]
          },
          "metadata": {
            "tags": []
          },
          "execution_count": 148
        }
      ]
    },
    {
      "metadata": {
        "id": "CB4H5ahX3C1S",
        "colab_type": "code",
        "colab": {
          "base_uri": "https://localhost:8080/",
          "height": 170
        },
        "outputId": "0a1f015c-88cd-4c2a-9ebf-f4c36d57b6db"
      },
      "cell_type": "code",
      "source": [
        "set_lrs(opt, 1e-3)\n",
        "fit(m, md, 5, opt, nll_loss_seq)"
      ],
      "execution_count": 150,
      "outputs": [
        {
          "output_type": "display_data",
          "data": {
            "application/vnd.jupyter.widget-view+json": {
              "model_id": "094e05cda0a14daf814c68d0c4edf168",
              "version_minor": 0,
              "version_major": 2
            },
            "text/plain": [
              "HBox(children=(IntProgress(value=0, description='Epoch', max=5), HTML(value='')))"
            ]
          },
          "metadata": {
            "tags": []
          }
        },
        {
          "output_type": "stream",
          "text": [
            "epoch      trn_loss   val_loss   \n",
            "    0      1.942178   1.992948  \n",
            "    1      1.928569   1.983297  \n",
            "    2      1.917704   1.979764  \n",
            "  9%|▉         | 21/235 [00:00<00:04, 44.74it/s, loss=1.91]"
          ],
          "name": "stdout"
        },
        {
          "output_type": "stream",
          "text": [
            "    3      1.915166   1.976594  \n",
            "    4      1.911268   1.974376  \n",
            "\n"
          ],
          "name": "stdout"
        },
        {
          "output_type": "execute_result",
          "data": {
            "text/plain": [
              "[array([1.97438])]"
            ]
          },
          "metadata": {
            "tags": []
          },
          "execution_count": 150
        }
      ]
    },
    {
      "metadata": {
        "id": "6V7ef_dV3WFr",
        "colab_type": "code",
        "colab": {
          "base_uri": "https://localhost:8080/",
          "height": 306
        },
        "outputId": "56b1af51-2f98-4d9c-c131-f070ddb41779"
      },
      "cell_type": "code",
      "source": [
        "fit(m, md, 5, opt, nll_loss_seq)\n",
        "set_lrs(opt, 1e-4)\n",
        "fit(m, md, 5, opt, nll_loss_seq)"
      ],
      "execution_count": 151,
      "outputs": [
        {
          "output_type": "display_data",
          "data": {
            "application/vnd.jupyter.widget-view+json": {
              "model_id": "adb6cca6c92747a0892f1d245a673721",
              "version_minor": 0,
              "version_major": 2
            },
            "text/plain": [
              "HBox(children=(IntProgress(value=0, description='Epoch', max=5), HTML(value='')))"
            ]
          },
          "metadata": {
            "tags": []
          }
        },
        {
          "output_type": "stream",
          "text": [
            "epoch      trn_loss   val_loss   \n",
            "    0      1.90737    1.973441  \n",
            "    1      1.90494    1.972056  \n",
            "    2      1.901813   1.970482  \n",
            "  9%|▉         | 21/235 [00:00<00:05, 38.21it/s, loss=1.9]"
          ],
          "name": "stdout"
        },
        {
          "output_type": "stream",
          "text": [
            "    3      1.898568   1.969391  \n",
            "    4      1.892412   1.969066  \n",
            "\n"
          ],
          "name": "stdout"
        },
        {
          "output_type": "display_data",
          "data": {
            "application/vnd.jupyter.widget-view+json": {
              "model_id": "63eeb4308bb548ad93646ff61dbd3206",
              "version_minor": 0,
              "version_major": 2
            },
            "text/plain": [
              "HBox(children=(IntProgress(value=0, description='Epoch', max=5), HTML(value='')))"
            ]
          },
          "metadata": {
            "tags": []
          }
        },
        {
          "output_type": "stream",
          "text": [
            "epoch      trn_loss   val_loss   \n",
            "    0      1.873604   1.961711  \n",
            "    1      1.876677   1.961037  \n",
            "    2      1.877795   1.960856  \n",
            "  7%|▋         | 17/235 [00:00<00:05, 42.21it/s, loss=1.87]"
          ],
          "name": "stdout"
        },
        {
          "output_type": "stream",
          "text": [
            "    3      1.871393   1.960652  \n",
            "    4      1.874141   1.960447  \n",
            "\n"
          ],
          "name": "stdout"
        },
        {
          "output_type": "execute_result",
          "data": {
            "text/plain": [
              "[array([1.96045])]"
            ]
          },
          "metadata": {
            "tags": []
          },
          "execution_count": 151
        }
      ]
    },
    {
      "metadata": {
        "id": "JAPw2O6g3q_L",
        "colab_type": "text"
      },
      "cell_type": "markdown",
      "source": [
        "**Пробуем**"
      ]
    },
    {
      "metadata": {
        "id": "T4SvcP-c3x7n",
        "colab_type": "code",
        "colab": {
          "base_uri": "https://localhost:8080/",
          "height": 34
        },
        "outputId": "57e14bae-2665-49bc-8193-bfe26535db53"
      },
      "cell_type": "code",
      "source": [
        "getnext('for')"
      ],
      "execution_count": 152,
      "outputs": [
        {
          "output_type": "execute_result",
          "data": {
            "text/plain": [
              "' r '"
            ]
          },
          "metadata": {
            "tags": []
          },
          "execution_count": 152
        }
      ]
    },
    {
      "metadata": {
        "id": "hGuHvdDH34Ux",
        "colab_type": "code",
        "colab": {
          "base_uri": "https://localhost:8080/",
          "height": 34
        },
        "outputId": "1514ecf2-cd81-4a01-cc43-bfa285451055"
      },
      "cell_type": "code",
      "source": [
        "getnext('you')"
      ],
      "execution_count": 154,
      "outputs": [
        {
          "output_type": "execute_result",
          "data": {
            "text/plain": [
              "' ur'"
            ]
          },
          "metadata": {
            "tags": []
          },
          "execution_count": 154
        }
      ]
    },
    {
      "metadata": {
        "id": "9AtpgVPW36sS",
        "colab_type": "code",
        "colab": {
          "base_uri": "https://localhost:8080/",
          "height": 34
        },
        "outputId": "dd36f58a-3c89-4328-d680-88ec42ed8ba3"
      },
      "cell_type": "code",
      "source": [
        "gentext('On ', cs, n=5)"
      ],
      "execution_count": 155,
      "outputs": [
        {
          "output_type": "execute_result",
          "data": {
            "text/plain": [
              "'On Net taretor thsi Tvhthst hryohe ot hhhkt hrythe otreeee oaae ne wfh'"
            ]
          },
          "metadata": {
            "tags": []
          },
          "execution_count": 155
        }
      ]
    }
  ]
}