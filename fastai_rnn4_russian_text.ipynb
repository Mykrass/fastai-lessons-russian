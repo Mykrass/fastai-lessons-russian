{
  "nbformat": 4,
  "nbformat_minor": 0,
  "metadata": {
    "colab": {
      "name": "fastai4.ipynb",
      "version": "0.3.2",
      "provenance": [],
      "include_colab_link": true
    },
    "kernelspec": {
      "name": "python3",
      "display_name": "Python 3"
    },
    "accelerator": "GPU"
  },
  "cells": [
    {
      "cell_type": "markdown",
      "metadata": {
        "id": "view-in-github",
        "colab_type": "text"
      },
      "source": [
        "[View in Colaboratory](https://colab.research.google.com/gist/naviarh/fe0d95b2d197dcf3c1d3df96b64168cc/fastai4.ipynb)"
      ]
    },
    {
      "metadata": {
        "id": "aKs5ERzaAskU",
        "colab_type": "code",
        "colab": {}
      },
      "cell_type": "code",
      "source": [
        "!pip install --upgrade pip\n",
        "!pip3 install fastai"
      ],
      "execution_count": 0,
      "outputs": []
    },
    {
      "metadata": {
        "id": "1ay0kFVmCO6G",
        "colab_type": "code",
        "colab": {}
      },
      "cell_type": "code",
      "source": [
        "!pip3 install spacy"
      ],
      "execution_count": 0,
      "outputs": []
    },
    {
      "metadata": {
        "id": "BcQXv4U6B3vx",
        "colab_type": "text"
      },
      "cell_type": "markdown",
      "source": [
        "### Генератор текста на русском (LSTM)"
      ]
    },
    {
      "metadata": {
        "id": "QfJ0rxFrB2ba",
        "colab_type": "code",
        "colab": {
          "base_uri": "https://localhost:8080/",
          "height": 34
        },
        "outputId": "396a0a1d-eb9c-4de6-d011-2e6e821980c6"
      },
      "cell_type": "code",
      "source": [
        "# Put these at the top of every notebook, to get automatic reloading and inline plotting\n",
        "%reload_ext autoreload\n",
        "%autoreload 2\n",
        "%matplotlib inline\n",
        "!pwd"
      ],
      "execution_count": 2,
      "outputs": [
        {
          "output_type": "stream",
          "text": [
            "/content\r\n"
          ],
          "name": "stdout"
        }
      ]
    },
    {
      "metadata": {
        "id": "tyoeelNNCB-T",
        "colab_type": "code",
        "colab": {}
      },
      "cell_type": "code",
      "source": [
        "#!/usr/bin/env python3\n",
        "# -*- coding: utf-8 -*-"
      ],
      "execution_count": 0,
      "outputs": []
    },
    {
      "metadata": {
        "id": "JrwqkuLLCFmI",
        "colab_type": "code",
        "colab": {
          "base_uri": "https://localhost:8080/",
          "height": 59
        },
        "outputId": "d3d87414-00b7-4e6f-9751-7437f506adb0"
      },
      "cell_type": "code",
      "source": [
        "import subprocess, os\n",
        "os.uname()"
      ],
      "execution_count": 4,
      "outputs": [
        {
          "output_type": "execute_result",
          "data": {
            "text/plain": [
              "posix.uname_result(sysname='Linux', nodename='bb733dc4c7ea', release='4.14.33+', version='#1 SMP Wed Jun 20 01:36:48 PDT 2018', machine='x86_64')"
            ]
          },
          "metadata": {
            "tags": []
          },
          "execution_count": 4
        }
      ]
    },
    {
      "metadata": {
        "id": "25pf3oFWCKJ-",
        "colab_type": "code",
        "colab": {
          "base_uri": "https://localhost:8080/",
          "height": 102
        },
        "outputId": "f052cd67-a94d-4d84-a491-8d2b28af9660"
      },
      "cell_type": "code",
      "source": [
        "from fastai import sgdr\n",
        "from fastai.io import *\n",
        "from fastai.nlp import *\n",
        "from fastai.lm_rnn import *\n",
        "from fastai.structured import *\n",
        "from fastai.column_data import *\n",
        "from fastai.conv_learner import *\n",
        "from torchtext import vocab, data\n",
        "!pip3 show fastai torch | grep Name -A 1"
      ],
      "execution_count": 5,
      "outputs": [
        {
          "output_type": "stream",
          "text": [
            "Name: fastai\r\n",
            "Version: 0.7.0\r\n",
            "--\r\n",
            "Name: torch\r\n",
            "Version: 0.3.1\r\n"
          ],
          "name": "stdout"
        }
      ]
    },
    {
      "metadata": {
        "id": "TXWNqNwAD00s",
        "colab_type": "text"
      },
      "cell_type": "markdown",
      "source": [
        "### Начало"
      ]
    },
    {
      "metadata": {
        "id": "YW-bmBjeD5eR",
        "colab_type": "code",
        "colab": {
          "base_uri": "https://localhost:8080/",
          "height": 34
        },
        "outputId": "4f9e854d-d913-4d99-eb26-34bb75223cbb"
      },
      "cell_type": "code",
      "source": [
        "# Организуем файловую структуру\n",
        "PATH='data/nietzsche/'\n",
        "TRN_PATH = 'trn/'\n",
        "VAL_PATH = 'val/'\n",
        "TRN = f'{PATH}{TRN_PATH}'\n",
        "VAL = f'{PATH}{VAL_PATH}'\n",
        "os.makedirs(TRN, exist_ok=True)\n",
        "os.makedirs(VAL, exist_ok=True)\n",
        "os.makedirs(f'{PATH}models', exist_ok=True)\n",
        "%ls {PATH}"
      ],
      "execution_count": 6,
      "outputs": [
        {
          "output_type": "stream",
          "text": [
            "1.txt  aphorisms.txt  kastaneda.txt  \u001b[0m\u001b[01;34mmodels\u001b[0m/  nietzsche.txt  \u001b[01;34mtrn\u001b[0m/  \u001b[01;34mval\u001b[0m/\r\n"
          ],
          "name": "stdout"
        }
      ]
    },
    {
      "metadata": {
        "id": "Eyo7Y7ssD_XT",
        "colab_type": "code",
        "colab": {}
      },
      "cell_type": "code",
      "source": [
        "# Загрузим текст Активная сторона бецконечности\n",
        "get_data(\"http://tululu.org/txt.php?id=79834\", f'{PATH}kastaneda.txt')"
      ],
      "execution_count": 0,
      "outputs": []
    },
    {
      "metadata": {
        "id": "ti-1TgyyJjXF",
        "colab_type": "code",
        "colab": {
          "base_uri": "https://localhost:8080/",
          "height": 34
        },
        "outputId": "64d37711-6bad-48fb-da18-9546e0184168"
      },
      "cell_type": "code",
      "source": [
        "# Прочитаем\n",
        "text = open(f'{PATH}kastaneda.txt').read()\n",
        "text[:57]"
      ],
      "execution_count": 8,
      "outputs": [
        {
          "output_type": "execute_result",
          "data": {
            "text/plain": [
              "'Аннотация: Кроме бесед с Доном Хуаном и магической работы'"
            ]
          },
          "metadata": {
            "tags": []
          },
          "execution_count": 8
        }
      ]
    },
    {
      "metadata": {
        "id": "Mcw7keUYJmyN",
        "colab_type": "code",
        "colab": {
          "base_uri": "https://localhost:8080/",
          "height": 34
        },
        "outputId": "95b8a5c5-5356-4eb9-826e-4e93865f006b"
      },
      "cell_type": "code",
      "source": [
        "# Разделим 80% / 20%\n",
        "t80 = text[:-len(text)//5]\n",
        "t20 = text[len(t80):]\n",
        "len(text), len(t80), len(t20)"
      ],
      "execution_count": 9,
      "outputs": [
        {
          "output_type": "execute_result",
          "data": {
            "text/plain": [
              "(500533, 400426, 100107)"
            ]
          },
          "metadata": {
            "tags": []
          },
          "execution_count": 9
        }
      ]
    },
    {
      "metadata": {
        "id": "akrZ7UWbKQ8a",
        "colab_type": "code",
        "colab": {
          "base_uri": "https://localhost:8080/",
          "height": 102
        },
        "outputId": "4ce2af77-ee28-43b1-d4df-5c9f0473d398"
      },
      "cell_type": "code",
      "source": [
        "# Создадим тренировочный и валидационный тексты\n",
        "open(f'{TRN}trn.txt','w').write(t80)\n",
        "open(f'{VAL}val.txt','w').write(t20)\n",
        "%ls {TRN} {VAL}"
      ],
      "execution_count": 10,
      "outputs": [
        {
          "output_type": "stream",
          "text": [
            "data/nietzsche/trn/:\r\n",
            "trn.txt\r\n",
            "\r\n",
            "data/nietzsche/val/:\r\n",
            "val.txt\r\n"
          ],
          "name": "stdout"
        }
      ]
    },
    {
      "metadata": {
        "id": "hnc0oroaKXAA",
        "colab_type": "code",
        "colab": {
          "base_uri": "https://localhost:8080/",
          "height": 34
        },
        "outputId": "fb8543a2-cfc8-43ad-9fa3-ff76d1ec1849"
      },
      "cell_type": "code",
      "source": [
        "# Предобработчик данных из модуля torchtext\n",
        "TEXT = data.Field(lower=True, tokenize=list)\n",
        "TEXT"
      ],
      "execution_count": 11,
      "outputs": [
        {
          "output_type": "execute_result",
          "data": {
            "text/plain": [
              "<torchtext.data.field.Field at 0x7fec08db9748>"
            ]
          },
          "metadata": {
            "tags": []
          },
          "execution_count": 11
        }
      ]
    },
    {
      "metadata": {
        "id": "28CGnv_iKbUp",
        "colab_type": "code",
        "colab": {}
      },
      "cell_type": "code",
      "source": [
        "bs=64 # размер минибатча\n",
        "bptt=8 # длина рекурсии (размер бэкпропегейшн по времени)\n",
        "n_fac=42 # размер эмбеддинга\n",
        "n_hidden=1024 # размер скрытого слоя"
      ],
      "execution_count": 0,
      "outputs": []
    },
    {
      "metadata": {
        "id": "fauUuDJYKrjA",
        "colab_type": "code",
        "colab": {
          "base_uri": "https://localhost:8080/",
          "height": 34
        },
        "outputId": "3c8f3145-e151-452b-b85a-def37c09febd"
      },
      "cell_type": "code",
      "source": [
        "# Определим подпапки тренировочной, проверочной, и тестовой выборок\n",
        "FILES = dict(train=TRN_PATH, validation=VAL_PATH, test=VAL_PATH)\n",
        "FILES"
      ],
      "execution_count": 55,
      "outputs": [
        {
          "output_type": "execute_result",
          "data": {
            "text/plain": [
              "{'test': 'val/', 'train': 'trn/', 'validation': 'val/'}"
            ]
          },
          "metadata": {
            "tags": []
          },
          "execution_count": 55
        }
      ]
    },
    {
      "metadata": {
        "id": "cGztEkFDKyY0",
        "colab_type": "code",
        "colab": {
          "base_uri": "https://localhost:8080/",
          "height": 34
        },
        "outputId": "fddee4c5-9c85-441c-92d8-c3c5d8f066b9"
      },
      "cell_type": "code",
      "source": [
        "# Объект данных модели (min_freq=3 - игнор символов, встречающижся реже 3 раз)\n",
        "md = LanguageModelData.from_text_files(PATH, TEXT, **FILES, bs=bs, bptt=bptt, min_freq=3)\n",
        "md"
      ],
      "execution_count": 82,
      "outputs": [
        {
          "output_type": "execute_result",
          "data": {
            "text/plain": [
              "<fastai.nlp.LanguageModelData at 0x7febadd16898>"
            ]
          },
          "metadata": {
            "tags": []
          },
          "execution_count": 82
        }
      ]
    },
    {
      "metadata": {
        "id": "oweibElnNgmg",
        "colab_type": "code",
        "colab": {
          "base_uri": "https://localhost:8080/",
          "height": 34
        },
        "outputId": "e516180b-dc1c-403c-9f63-df3f1f43fe1e"
      },
      "cell_type": "code",
      "source": [
        "TEXT.vocab.itos[3:10]"
      ],
      "execution_count": 83,
      "outputs": [
        {
          "output_type": "execute_result",
          "data": {
            "text/plain": [
              "['о', 'е', 'а', 'н', 'и', 'т', 'с']"
            ]
          },
          "metadata": {
            "tags": []
          },
          "execution_count": 83
        }
      ]
    },
    {
      "metadata": {
        "id": "lujbSlQPLJym",
        "colab_type": "code",
        "colab": {
          "base_uri": "https://localhost:8080/",
          "height": 34
        },
        "outputId": "0050515c-c654-40ee-d50b-6fe99428172f"
      },
      "cell_type": "code",
      "source": [
        "# количество минибатчей\n",
        "len(md.trn_dl)"
      ],
      "execution_count": 84,
      "outputs": [
        {
          "output_type": "execute_result",
          "data": {
            "text/plain": [
              "778"
            ]
          },
          "metadata": {
            "tags": []
          },
          "execution_count": 84
        }
      ]
    },
    {
      "metadata": {
        "id": "QtTiDHZCLagC",
        "colab_type": "code",
        "colab": {
          "base_uri": "https://localhost:8080/",
          "height": 34
        },
        "outputId": "133196cb-f7b3-469d-ef64-f36e002951dc"
      },
      "cell_type": "code",
      "source": [
        "# Количество уникальных токенов (символов)\n",
        "md.nt"
      ],
      "execution_count": 85,
      "outputs": [
        {
          "output_type": "execute_result",
          "data": {
            "text/plain": [
              "72"
            ]
          },
          "metadata": {
            "tags": []
          },
          "execution_count": 85
        }
      ]
    },
    {
      "metadata": {
        "id": "4xmXa8C2Lfd4",
        "colab_type": "code",
        "colab": {
          "base_uri": "https://localhost:8080/",
          "height": 34
        },
        "outputId": "6ecbfe4a-58d6-4171-d211-20eeb898aab3"
      },
      "cell_type": "code",
      "source": [
        "# Количество тренировочных наборов и его размер\n",
        "len(md.trn_ds), len(md.trn_ds[0].text)"
      ],
      "execution_count": 86,
      "outputs": [
        {
          "output_type": "execute_result",
          "data": {
            "text/plain": [
              "(1, 399090)"
            ]
          },
          "metadata": {
            "tags": []
          },
          "execution_count": 86
        }
      ]
    },
    {
      "metadata": {
        "id": "lFilYIpXLn0j",
        "colab_type": "text"
      },
      "cell_type": "markdown",
      "source": [
        "### Модель LSTM"
      ]
    },
    {
      "metadata": {
        "id": "JPGp8fQ-Lg7W",
        "colab_type": "code",
        "colab": {}
      },
      "cell_type": "code",
      "source": [
        "class CharSeqStatefulLSTM(nn.Module):\n",
        "    def __init__(self, vocab_size, n_fac, bs, nl):\n",
        "        super().__init__()\n",
        "        self.vocab_size,self.nl = vocab_size,nl\n",
        "        self.e = nn.Embedding(vocab_size, n_fac)\n",
        "        self.rnn = nn.LSTM(n_fac, n_hidden, nl, dropout=0.3)\n",
        "        self.l_2 = nn.Linear(n_hidden, 500)\n",
        "        self.l_out = nn.Linear(500, vocab_size)\n",
        "        self.init_hidden(bs)\n",
        "        \n",
        "    def forward(self, cs):\n",
        "        bs = cs[0].size(0)\n",
        "        if self.h[0].size(1) != bs: self.init_hidden(bs)\n",
        "        outp,h = self.rnn(self.e(cs), self.h)\n",
        "        self.h = repackage_var(h)\n",
        "        return F.log_softmax(self.l_out(F.sigmoid(self.l_2(outp))), dim=-1).view(-1, self.vocab_size)\n",
        "    \n",
        "    def init_hidden(self, bs):\n",
        "        self.h = (V(torch.zeros(self.nl, bs, n_hidden)),\n",
        "                  V(torch.zeros(self.nl, bs, n_hidden)))"
      ],
      "execution_count": 0,
      "outputs": []
    },
    {
      "metadata": {
        "id": "ZhhmV3ggMAH-",
        "colab_type": "code",
        "colab": {
          "base_uri": "https://localhost:8080/",
          "height": 119
        },
        "outputId": "bcb46f06-f9f8-46c4-b70f-d8ed7728b04d"
      },
      "cell_type": "code",
      "source": [
        "# Модель и оптимизатор\n",
        "m = CharSeqStatefulLSTM(md.nt, n_fac, 512, 2).cuda()\n",
        "lo = LayerOptimizer(optim.Adam, m, 1e-2, 1e-3)\n",
        "m"
      ],
      "execution_count": 91,
      "outputs": [
        {
          "output_type": "execute_result",
          "data": {
            "text/plain": [
              "CharSeqStatefulLSTM(\n",
              "  (e): Embedding(72, 42)\n",
              "  (rnn): LSTM(42, 1024, num_layers=2, dropout=0.3)\n",
              "  (l_2): Linear(in_features=1024, out_features=500, bias=True)\n",
              "  (l_out): Linear(in_features=500, out_features=72, bias=True)\n",
              ")"
            ]
          },
          "metadata": {
            "tags": []
          },
          "execution_count": 91
        }
      ]
    },
    {
      "metadata": {
        "id": "kY94l--oMSU_",
        "colab_type": "text"
      },
      "cell_type": "markdown",
      "source": [
        "**Обучаем**"
      ]
    },
    {
      "metadata": {
        "id": "YydWK7lXMO9h",
        "colab_type": "code",
        "colab": {
          "base_uri": "https://localhost:8080/",
          "height": 85
        },
        "outputId": "224687bc-414f-49e4-89c5-a3eea4a598b3"
      },
      "cell_type": "code",
      "source": [
        "fit(m, md, 1, lo.opt, F.nll_loss)"
      ],
      "execution_count": 92,
      "outputs": [
        {
          "output_type": "display_data",
          "data": {
            "application/vnd.jupyter.widget-view+json": {
              "model_id": "a70e52250bc0413fb212527ef0e558f4",
              "version_minor": 0,
              "version_major": 2
            },
            "text/plain": [
              "HBox(children=(IntProgress(value=0, description='Epoch', max=1), HTML(value='')))"
            ]
          },
          "metadata": {
            "tags": []
          }
        },
        {
          "output_type": "stream",
          "text": [
            "epoch      trn_loss   val_loss   \n",
            "    0      2.570383   2.574516  \n"
          ],
          "name": "stdout"
        },
        {
          "output_type": "execute_result",
          "data": {
            "text/plain": [
              "[array([2.57452])]"
            ]
          },
          "metadata": {
            "tags": []
          },
          "execution_count": 92
        }
      ]
    },
    {
      "metadata": {
        "id": "TGTeTA9Xi2fd",
        "colab_type": "code",
        "colab": {}
      },
      "cell_type": "code",
      "source": [
        "lo = LayerOptimizer(optim.Adam, m, 1e-2, 1e-4)"
      ],
      "execution_count": 0,
      "outputs": []
    },
    {
      "metadata": {
        "id": "xy-U0z2ti85w",
        "colab_type": "code",
        "colab": {
          "base_uri": "https://localhost:8080/",
          "height": 102
        },
        "outputId": "60dae389-06b6-48d1-85ce-7d384949a926"
      },
      "cell_type": "code",
      "source": [
        "fit(m, md, 2, lo.opt, F.nll_loss)"
      ],
      "execution_count": 94,
      "outputs": [
        {
          "output_type": "display_data",
          "data": {
            "application/vnd.jupyter.widget-view+json": {
              "model_id": "d658dbbfd4a349c09e535a1d9ee01856",
              "version_minor": 0,
              "version_major": 2
            },
            "text/plain": [
              "HBox(children=(IntProgress(value=0, description='Epoch', max=2), HTML(value='')))"
            ]
          },
          "metadata": {
            "tags": []
          }
        },
        {
          "output_type": "stream",
          "text": [
            "epoch      trn_loss   val_loss   \n",
            "    0      2.153949   2.149751  \n",
            " 29%|██▉       | 224/778 [00:11<00:28, 19.78it/s, loss=2.1]"
          ],
          "name": "stdout"
        },
        {
          "output_type": "stream",
          "text": [
            "    1      2.012429   2.024766  \n"
          ],
          "name": "stdout"
        },
        {
          "output_type": "execute_result",
          "data": {
            "text/plain": [
              "[array([2.02477])]"
            ]
          },
          "metadata": {
            "tags": []
          },
          "execution_count": 94
        }
      ]
    },
    {
      "metadata": {
        "id": "0QO2slbO4faD",
        "colab_type": "code",
        "colab": {}
      },
      "cell_type": "code",
      "source": [
        "lo = LayerOptimizer(optim.Adam, m, 1e-3, 1e-3)"
      ],
      "execution_count": 0,
      "outputs": []
    },
    {
      "metadata": {
        "id": "s2CpK_eG4-Xv",
        "colab_type": "code",
        "colab": {
          "base_uri": "https://localhost:8080/",
          "height": 102
        },
        "outputId": "503899f2-9213-403b-f67b-e02e53cd92b7"
      },
      "cell_type": "code",
      "source": [
        "fit(m, md, 2, lo.opt, F.nll_loss)"
      ],
      "execution_count": 97,
      "outputs": [
        {
          "output_type": "display_data",
          "data": {
            "application/vnd.jupyter.widget-view+json": {
              "model_id": "c384785829bf482d811d8f6214ed81f0",
              "version_minor": 0,
              "version_major": 2
            },
            "text/plain": [
              "HBox(children=(IntProgress(value=0, description='Epoch', max=2), HTML(value='')))"
            ]
          },
          "metadata": {
            "tags": []
          }
        },
        {
          "output_type": "stream",
          "text": [
            "epoch      trn_loss   val_loss   \n",
            "    0      2.116525   2.122341  \n",
            " 29%|██▉       | 229/778 [00:11<00:26, 20.60it/s, loss=2.15]"
          ],
          "name": "stdout"
        },
        {
          "output_type": "stream",
          "text": [
            "    1      2.155665   2.158213  \n"
          ],
          "name": "stdout"
        },
        {
          "output_type": "execute_result",
          "data": {
            "text/plain": [
              "[array([2.15821])]"
            ]
          },
          "metadata": {
            "tags": []
          },
          "execution_count": 97
        }
      ]
    },
    {
      "metadata": {
        "id": "Pa5sCP-k5Pl-",
        "colab_type": "code",
        "colab": {}
      },
      "cell_type": "code",
      "source": [
        "lo = LayerOptimizer(optim.Adam, m, 1e-3, 1e-4)"
      ],
      "execution_count": 0,
      "outputs": []
    },
    {
      "metadata": {
        "id": "Y3jQZw_s5Rwk",
        "colab_type": "code",
        "colab": {
          "base_uri": "https://localhost:8080/",
          "height": 102
        },
        "outputId": "add199eb-9f2f-4e85-8848-cee93d97b7ef"
      },
      "cell_type": "code",
      "source": [
        "fit(m, md, 2, lo.opt, F.nll_loss)"
      ],
      "execution_count": 102,
      "outputs": [
        {
          "output_type": "display_data",
          "data": {
            "application/vnd.jupyter.widget-view+json": {
              "model_id": "1458ab360fcc4eb6baeb5b81b883b3e2",
              "version_minor": 0,
              "version_major": 2
            },
            "text/plain": [
              "HBox(children=(IntProgress(value=0, description='Epoch', max=2), HTML(value='')))"
            ]
          },
          "metadata": {
            "tags": []
          }
        },
        {
          "output_type": "stream",
          "text": [
            "epoch      trn_loss   val_loss   \n",
            "    0      1.96673    1.967415  \n",
            " 30%|███       | 237/778 [00:12<00:27, 19.68it/s, loss=1.94]"
          ],
          "name": "stdout"
        },
        {
          "output_type": "stream",
          "text": [
            "    1      1.86706    1.880259  \n"
          ],
          "name": "stdout"
        },
        {
          "output_type": "execute_result",
          "data": {
            "text/plain": [
              "[array([1.88026])]"
            ]
          },
          "metadata": {
            "tags": []
          },
          "execution_count": 102
        }
      ]
    },
    {
      "metadata": {
        "id": "HwZqD9MWPbmC",
        "colab_type": "code",
        "colab": {
          "base_uri": "https://localhost:8080/",
          "height": 323
        },
        "outputId": "dbaa0b29-9266-48ec-d73f-516cac9f3012"
      },
      "cell_type": "code",
      "source": [
        "on_end = lambda sched, cycle: save_model(m, f'{PATH}models/cyc_{cycle}')\n",
        "cb = [CosAnneal(lo, len(md.trn_dl), cycle_mult=2, on_cycle_end=on_end)]\n",
        "fit(m, md, 2**4-1, lo.opt, F.nll_loss, callbacks=cb)"
      ],
      "execution_count": 105,
      "outputs": [
        {
          "output_type": "display_data",
          "data": {
            "application/vnd.jupyter.widget-view+json": {
              "model_id": "5e156f713dbc407c80e9679178e8ad75",
              "version_minor": 0,
              "version_major": 2
            },
            "text/plain": [
              "HBox(children=(IntProgress(value=0, description='Epoch', max=15), HTML(value='')))"
            ]
          },
          "metadata": {
            "tags": []
          }
        },
        {
          "output_type": "stream",
          "text": [
            "epoch      trn_loss   val_loss   \n",
            "    0      1.773332   1.80239   \n",
            " 29%|██▉       | 228/778 [00:11<00:28, 19.49it/s, loss=1.81]"
          ],
          "name": "stdout"
        },
        {
          "output_type": "stream",
          "text": [
            "    1      1.743223   1.770381  \n"
          ],
          "name": "stdout"
        },
        {
          "output_type": "stream",
          "text": [
            "    2      1.685698   1.72923   \n",
            "    3      1.705136   1.739429  \n",
            "  4%|▍         | 31/778 [00:01<00:37, 19.67it/s, loss=1.7]"
          ],
          "name": "stdout"
        },
        {
          "output_type": "stream",
          "text": [
            "    4      1.645671   1.689976  \n"
          ],
          "name": "stdout"
        },
        {
          "output_type": "stream",
          "text": [
            "    5      1.585983   1.653886  \n",
            "    6      1.555251   1.637951  \n",
            "  3%|▎         | 22/778 [00:01<00:36, 20.57it/s, loss=1.57]"
          ],
          "name": "stdout"
        },
        {
          "output_type": "stream",
          "text": [
            "    7      1.609807   1.684528  \n"
          ],
          "name": "stdout"
        },
        {
          "output_type": "stream",
          "text": [
            "    8      1.573702   1.659033  \n",
            "    9      1.541857   1.630207  \n",
            "  4%|▍         | 34/778 [00:01<00:38, 19.30it/s, loss=1.54]"
          ],
          "name": "stdout"
        },
        {
          "output_type": "stream",
          "text": [
            "    10     1.518678   1.609519  \n"
          ],
          "name": "stdout"
        },
        {
          "output_type": "stream",
          "text": [
            "    11     1.493876   1.589642  \n",
            "    12     1.460541   1.576772  \n",
            "  5%|▌         | 39/778 [00:01<00:35, 21.06it/s, loss=1.46]"
          ],
          "name": "stdout"
        },
        {
          "output_type": "stream",
          "text": [
            "    13     1.433445   1.563059  \n",
            "    14     1.423181   1.557002  \n"
          ],
          "name": "stdout"
        },
        {
          "output_type": "execute_result",
          "data": {
            "text/plain": [
              "[array([1.557])]"
            ]
          },
          "metadata": {
            "tags": []
          },
          "execution_count": 105
        }
      ]
    },
    {
      "metadata": {
        "id": "c5dSVd1kQo0E",
        "colab_type": "code",
        "colab": {}
      },
      "cell_type": "code",
      "source": [
        "#on_end = lambda sched, cycle: save_model(m, f'{PATH}models/cyc_{cycle}')\n",
        "#cb = [CosAnneal(lo, len(md.trn_dl), cycle_mult=2, on_cycle_end=on_end)]\n",
        "#fit(m, md, 2**6-1, lo.opt, F.nll_loss, callbacks=cb)"
      ],
      "execution_count": 0,
      "outputs": []
    },
    {
      "metadata": {
        "id": "X2X5LspjM5jt",
        "colab_type": "text"
      },
      "cell_type": "markdown",
      "source": [
        "### Результат"
      ]
    },
    {
      "metadata": {
        "id": "5P26EAc1M41H",
        "colab_type": "code",
        "colab": {}
      },
      "cell_type": "code",
      "source": [
        "# Функция прогнозирования символа\n",
        "def get_next(inp):\n",
        "    idxs = TEXT.numericalize(inp)\n",
        "    p = m(VV(idxs.transpose(0,1)))\n",
        "    r = torch.multinomial(p[-1].exp(), 1)\n",
        "    return TEXT.vocab.itos[to_np(r)[0]]"
      ],
      "execution_count": 0,
      "outputs": []
    },
    {
      "metadata": {
        "id": "fAabE5r9NKvD",
        "colab_type": "code",
        "colab": {
          "base_uri": "https://localhost:8080/",
          "height": 34
        },
        "outputId": "85aababe-2beb-4444-f8db-61576ddd47b1"
      },
      "cell_type": "code",
      "source": [
        "get_next('Карлос Кастане')"
      ],
      "execution_count": 107,
      "outputs": [
        {
          "output_type": "execute_result",
          "data": {
            "text/plain": [
              "'р'"
            ]
          },
          "metadata": {
            "tags": []
          },
          "execution_count": 107
        }
      ]
    },
    {
      "metadata": {
        "id": "IBJ3t_ZiOdHW",
        "colab_type": "code",
        "colab": {}
      },
      "cell_type": "code",
      "source": [
        "# Функция генерация текста\n",
        "def get_next_n(inp, n):\n",
        "    res = inp\n",
        "    for _ in range(n):\n",
        "        c = get_next(inp)\n",
        "        res += c\n",
        "        inp = inp[1:]+c\n",
        "    return res"
      ],
      "execution_count": 0,
      "outputs": []
    },
    {
      "metadata": {
        "id": "fnpu4Rb6Ohn5",
        "colab_type": "code",
        "colab": {
          "base_uri": "https://localhost:8080/",
          "height": 59
        },
        "outputId": "118ebb82-d366-4bee-d717-b7ef3cb729f6"
      },
      "cell_type": "code",
      "source": [
        "get_next_n('Карлос Кастане ', 250)"
      ],
      "execution_count": 110,
      "outputs": [
        {
          "output_type": "execute_result",
          "data": {
            "text/plain": [
              "'Карлос Кастане и с грустего дворечкой, которую я смог история. я выстала, что прямо сколько мере; дон хуан просто тему и обычность и говорить, веба, к гронке из них интересное светеюлиз: в том, что-я вдали тебе, как работа в уривает ображдала, прифорбнили дон хуан '"
            ]
          },
          "metadata": {
            "tags": []
          },
          "execution_count": 110
        }
      ]
    }
  ]
}