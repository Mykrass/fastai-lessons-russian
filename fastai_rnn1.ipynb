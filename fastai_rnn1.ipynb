{
  "nbformat": 4,
  "nbformat_minor": 0,
  "metadata": {
    "colab": {
      "name": "fastai_rnn1.ipynb",
      "version": "0.3.2",
      "provenance": [],
      "collapsed_sections": [],
      "include_colab_link": true
    },
    "kernelspec": {
      "name": "python3",
      "display_name": "Python 3"
    },
    "accelerator": "GPU"
  },
  "cells": [
    {
      "cell_type": "markdown",
      "metadata": {
        "id": "view-in-github",
        "colab_type": "text"
      },
      "source": [
        "[View in Colaboratory](https://colab.research.google.com/gist/naviarh/2b61fb4170f9620c34edbd545669cdaa/fastai_rnn1.ipynb)"
      ]
    },
    {
      "metadata": {
        "id": "N_g6IcTTcZBG",
        "colab_type": "code",
        "colab": {}
      },
      "cell_type": "code",
      "source": [
        "!pip install --upgrade pip\n",
        "!pip3 install fastai"
      ],
      "execution_count": 0,
      "outputs": []
    },
    {
      "metadata": {
        "id": "ZLsJugRIdOyu",
        "colab_type": "text"
      },
      "cell_type": "markdown",
      "source": [
        "### Настройка платформы"
      ]
    },
    {
      "metadata": {
        "id": "b9RIWXWYcjke",
        "colab_type": "code",
        "colab": {
          "base_uri": "https://localhost:8080/",
          "height": 34
        },
        "outputId": "cdb1549f-812b-4ac9-ca0b-3dd77a9b508a"
      },
      "cell_type": "code",
      "source": [
        "# Put these at the top of every notebook, to get automatic reloading and inline plotting\n",
        "%reload_ext autoreload\n",
        "%autoreload 2\n",
        "%matplotlib inline\n",
        "!pwd"
      ],
      "execution_count": 2,
      "outputs": [
        {
          "output_type": "stream",
          "text": [
            "/content\r\n"
          ],
          "name": "stdout"
        }
      ]
    },
    {
      "metadata": {
        "id": "I8Jh2W9zdbJM",
        "colab_type": "code",
        "colab": {}
      },
      "cell_type": "code",
      "source": [
        "#!/usr/bin/env python3\n",
        "# -*- coding: utf-8 -*-"
      ],
      "execution_count": 0,
      "outputs": []
    },
    {
      "metadata": {
        "id": "RChg914fde65",
        "colab_type": "code",
        "colab": {
          "base_uri": "https://localhost:8080/",
          "height": 59
        },
        "outputId": "2ec51c03-2a52-458b-84e9-10b06bfaa5fa"
      },
      "cell_type": "code",
      "source": [
        "import subprocess, os\n",
        "os.uname()"
      ],
      "execution_count": 4,
      "outputs": [
        {
          "output_type": "execute_result",
          "data": {
            "text/plain": [
              "posix.uname_result(sysname='Linux', nodename='bb0f6817e6dd', release='4.14.33+', version='#1 SMP Wed Jun 20 01:36:48 PDT 2018', machine='x86_64')"
            ]
          },
          "metadata": {
            "tags": []
          },
          "execution_count": 4
        }
      ]
    },
    {
      "metadata": {
        "id": "BABIQeLXdiu1",
        "colab_type": "code",
        "colab": {
          "base_uri": "https://localhost:8080/",
          "height": 102
        },
        "outputId": "c56b7187-d297-4bc1-d817-70c7429bdfed"
      },
      "cell_type": "code",
      "source": [
        "from fastai.structured import *\n",
        "from fastai.column_data import *\n",
        "!pip3 show fastai torch | grep Name -A 1"
      ],
      "execution_count": 5,
      "outputs": [
        {
          "output_type": "stream",
          "text": [
            "Name: fastai\r\n",
            "Version: 0.7.0\n",
            "--\n",
            "Name: torch\n",
            "Version: 0.3.1\n"
          ],
          "name": "stdout"
        }
      ]
    },
    {
      "metadata": {
        "id": "3P59rQwUegqN",
        "colab_type": "code",
        "colab": {}
      },
      "cell_type": "code",
      "source": [
        "from fastai.io import *\n",
        "from fastai.conv_learner import *\n",
        "\n",
        "from fastai.column_data import *"
      ],
      "execution_count": 0,
      "outputs": []
    },
    {
      "metadata": {
        "id": "0hdFLQ0Edo9P",
        "colab_type": "code",
        "colab": {
          "base_uri": "https://localhost:8080/",
          "height": 34
        },
        "outputId": "98e0db4a-e9a2-4ed6-86c8-de6e049fb405"
      },
      "cell_type": "code",
      "source": [
        "torch.cuda.set_device(0)\n",
        "torch.cuda.get_device_name(0)"
      ],
      "execution_count": 6,
      "outputs": [
        {
          "output_type": "execute_result",
          "data": {
            "text/plain": [
              "'Tesla K80'"
            ]
          },
          "metadata": {
            "tags": []
          },
          "execution_count": 6
        }
      ]
    },
    {
      "metadata": {
        "id": "z7sO834Adt9Z",
        "colab_type": "code",
        "colab": {}
      },
      "cell_type": "code",
      "source": [
        "#from fastai.imports import *\n",
        "#from fastai.transforms import *\n",
        "#from fastai.conv_learner import *\n",
        "#from fastai.model import *\n",
        "#from fastai.dataset import *\n",
        "#from fastai.sgdr import *\n",
        "#from fastai.plots import *\n",
        "#!pip3 show fastai torch | grep Name -A 1"
      ],
      "execution_count": 0,
      "outputs": []
    },
    {
      "metadata": {
        "id": "fbqlGzDcd0Qm",
        "colab_type": "text"
      },
      "cell_type": "markdown",
      "source": [
        "### Начало"
      ]
    },
    {
      "metadata": {
        "id": "Xh-cMNezeETn",
        "colab_type": "text"
      },
      "cell_type": "markdown",
      "source": [
        "Мы собираемся скачать собрание сочинений Ницше в качестве данных для этого класса."
      ]
    },
    {
      "metadata": {
        "id": "pOkKGAuSdpnh",
        "colab_type": "code",
        "colab": {}
      },
      "cell_type": "code",
      "source": [
        "PATH='nietzsche/'\n",
        "os.makedirs(PATH, exist_ok=True)"
      ],
      "execution_count": 0,
      "outputs": []
    },
    {
      "metadata": {
        "id": "sCgHZDwmeV0G",
        "colab_type": "code",
        "colab": {
          "base_uri": "https://localhost:8080/",
          "height": 51
        },
        "outputId": "1ad7969f-1a04-4d3e-a53c-ef3aaf73ff7d"
      },
      "cell_type": "code",
      "source": [
        "get_data(\"https://s3.amazonaws.com/text-datasets/nietzsche.txt\", f'{PATH}nietzsche.txt')\n",
        "text = open(f'{PATH}nietzsche.txt').read()\n",
        "print('corpus length:', len(text))"
      ],
      "execution_count": 11,
      "outputs": [
        {
          "output_type": "stream",
          "text": [
            "nietzsche.txt: 606kB [00:00, 1.13MB/s]                           \n"
          ],
          "name": "stderr"
        },
        {
          "output_type": "stream",
          "text": [
            "corpus length: 600893\n"
          ],
          "name": "stdout"
        }
      ]
    },
    {
      "metadata": {
        "id": "OtJrIrFuep0v",
        "colab_type": "code",
        "colab": {
          "base_uri": "https://localhost:8080/",
          "height": 59
        },
        "outputId": "e4472e1b-07e3-4632-b37a-4a939668b62d"
      },
      "cell_type": "code",
      "source": [
        "text[:400]"
      ],
      "execution_count": 12,
      "outputs": [
        {
          "output_type": "execute_result",
          "data": {
            "text/plain": [
              "'PREFACE\\n\\n\\nSUPPOSING that Truth is a woman--what then? Is there not ground\\nfor suspecting that all philosophers, in so far as they have been\\ndogmatists, have failed to understand women--that the terrible\\nseriousness and clumsy importunity with which they have usually paid\\ntheir addresses to Truth, have been unskilled and unseemly methods for\\nwinning a woman? Certainly she has never allowed herself '"
            ]
          },
          "metadata": {
            "tags": []
          },
          "execution_count": 12
        }
      ]
    },
    {
      "metadata": {
        "id": "x0gSpoUCeuSM",
        "colab_type": "code",
        "colab": {
          "base_uri": "https://localhost:8080/",
          "height": 34
        },
        "outputId": "0bed2ab3-bfaa-406d-87c5-b25789a62544"
      },
      "cell_type": "code",
      "source": [
        "chars = sorted(list(set(text))) # отсортированный список множества всех символов\n",
        "vocab_size = len(chars)+1 # количество символов (+1 для нулевого значения)\n",
        "print('total chars:', vocab_size)"
      ],
      "execution_count": 13,
      "outputs": [
        {
          "output_type": "stream",
          "text": [
            "total chars: 85\n"
          ],
          "name": "stdout"
        }
      ]
    },
    {
      "metadata": {
        "id": "7yJ7iSlnHcxp",
        "colab_type": "code",
        "colab": {
          "base_uri": "https://localhost:8080/",
          "height": 34
        },
        "outputId": "5ef9dff7-315a-4cd7-e7d3-0e4f0d58a1dd"
      },
      "cell_type": "code",
      "source": [
        "len(set(text))"
      ],
      "execution_count": 42,
      "outputs": [
        {
          "output_type": "execute_result",
          "data": {
            "text/plain": [
              "84"
            ]
          },
          "metadata": {
            "tags": []
          },
          "execution_count": 42
        }
      ]
    },
    {
      "metadata": {
        "id": "reV7eEY0e3ia",
        "colab_type": "code",
        "colab": {
          "base_uri": "https://localhost:8080/",
          "height": 59
        },
        "outputId": "394147a1-a610-4eeb-b7e7-49072f428c72"
      },
      "cell_type": "code",
      "source": [
        "print(chars)"
      ],
      "execution_count": 17,
      "outputs": [
        {
          "output_type": "stream",
          "text": [
            "['\\n', ' ', '!', '\"', \"'\", '(', ')', ',', '-', '.', '0', '1', '2', '3', '4', '5', '6', '7', '8', '9', ':', ';', '=', '?', 'A', 'B', 'C', 'D', 'E', 'F', 'G', 'H', 'I', 'J', 'K', 'L', 'M', 'N', 'O', 'P', 'Q', 'R', 'S', 'T', 'U', 'V', 'W', 'X', 'Y', 'Z', '[', ']', '_', 'a', 'b', 'c', 'd', 'e', 'f', 'g', 'h', 'i', 'j', 'k', 'l', 'm', 'n', 'o', 'p', 'q', 'r', 's', 't', 'u', 'v', 'w', 'x', 'y', 'z', 'Æ', 'ä', 'æ', 'é', 'ë']\n"
          ],
          "name": "stdout"
        }
      ]
    },
    {
      "metadata": {
        "id": "Ja1nRu7U-PrC",
        "colab_type": "code",
        "colab": {
          "base_uri": "https://localhost:8080/",
          "height": 34
        },
        "outputId": "34fe43bf-9d52-498d-f7e0-6286e79e59be"
      },
      "cell_type": "code",
      "source": [
        "# Вставим нулевое значение в набор для отступов\n",
        "chars.insert(0, \"\\0\")\n",
        "\n",
        "''.join(chars[1:-6])"
      ],
      "execution_count": 18,
      "outputs": [
        {
          "output_type": "execute_result",
          "data": {
            "text/plain": [
              "'\\n !\"\\'(),-.0123456789:;=?ABCDEFGHIJKLMNOPQRSTUVWXYZ[]_abcdefghijklmnopqrstuvwxy'"
            ]
          },
          "metadata": {
            "tags": []
          },
          "execution_count": 18
        }
      ]
    },
    {
      "metadata": {
        "id": "cye-7xCc-S4B",
        "colab_type": "code",
        "colab": {
          "base_uri": "https://localhost:8080/",
          "height": 59
        },
        "outputId": "ddf7ae04-bff0-4ecc-a436-4f929cc77fe0"
      },
      "cell_type": "code",
      "source": [
        "print(chars)"
      ],
      "execution_count": 19,
      "outputs": [
        {
          "output_type": "stream",
          "text": [
            "['\\x00', '\\n', ' ', '!', '\"', \"'\", '(', ')', ',', '-', '.', '0', '1', '2', '3', '4', '5', '6', '7', '8', '9', ':', ';', '=', '?', 'A', 'B', 'C', 'D', 'E', 'F', 'G', 'H', 'I', 'J', 'K', 'L', 'M', 'N', 'O', 'P', 'Q', 'R', 'S', 'T', 'U', 'V', 'W', 'X', 'Y', 'Z', '[', ']', '_', 'a', 'b', 'c', 'd', 'e', 'f', 'g', 'h', 'i', 'j', 'k', 'l', 'm', 'n', 'o', 'p', 'q', 'r', 's', 't', 'u', 'v', 'w', 'x', 'y', 'z', 'Æ', 'ä', 'æ', 'é', 'ë']\n"
          ],
          "name": "stdout"
        }
      ]
    },
    {
      "metadata": {
        "id": "_U048K6p-eJD",
        "colab_type": "code",
        "colab": {
          "base_uri": "https://localhost:8080/",
          "height": 34
        },
        "outputId": "3be65cbb-036b-4ae0-b215-6b31ab4a6797"
      },
      "cell_type": "code",
      "source": [
        "len(chars)"
      ],
      "execution_count": 20,
      "outputs": [
        {
          "output_type": "execute_result",
          "data": {
            "text/plain": [
              "85"
            ]
          },
          "metadata": {
            "tags": []
          },
          "execution_count": 20
        }
      ]
    },
    {
      "metadata": {
        "id": "gTRlOcfM_CjT",
        "colab_type": "code",
        "colab": {}
      },
      "cell_type": "code",
      "source": [
        "# Карта символов в индексы\n",
        "char_indices = {c: i for i, c in enumerate(chars)}\n",
        "# Карта индексов в символы\n",
        "indices_char = {i: c for i, c in enumerate(chars)}"
      ],
      "execution_count": 0,
      "outputs": []
    },
    {
      "metadata": {
        "id": "aMK8CnPr_XxE",
        "colab_type": "code",
        "colab": {
          "base_uri": "https://localhost:8080/",
          "height": 59
        },
        "outputId": "a0aec935-9dea-4189-bebf-4335d371c907"
      },
      "cell_type": "code",
      "source": [
        "print(char_indices)"
      ],
      "execution_count": 25,
      "outputs": [
        {
          "output_type": "stream",
          "text": [
            "{'\\x00': 0, '\\n': 1, ' ': 2, '!': 3, '\"': 4, \"'\": 5, '(': 6, ')': 7, ',': 8, '-': 9, '.': 10, '0': 11, '1': 12, '2': 13, '3': 14, '4': 15, '5': 16, '6': 17, '7': 18, '8': 19, '9': 20, ':': 21, ';': 22, '=': 23, '?': 24, 'A': 25, 'B': 26, 'C': 27, 'D': 28, 'E': 29, 'F': 30, 'G': 31, 'H': 32, 'I': 33, 'J': 34, 'K': 35, 'L': 36, 'M': 37, 'N': 38, 'O': 39, 'P': 40, 'Q': 41, 'R': 42, 'S': 43, 'T': 44, 'U': 45, 'V': 46, 'W': 47, 'X': 48, 'Y': 49, 'Z': 50, '[': 51, ']': 52, '_': 53, 'a': 54, 'b': 55, 'c': 56, 'd': 57, 'e': 58, 'f': 59, 'g': 60, 'h': 61, 'i': 62, 'j': 63, 'k': 64, 'l': 65, 'm': 66, 'n': 67, 'o': 68, 'p': 69, 'q': 70, 'r': 71, 's': 72, 't': 73, 'u': 74, 'v': 75, 'w': 76, 'x': 77, 'y': 78, 'z': 79, 'Æ': 80, 'ä': 81, 'æ': 82, 'é': 83, 'ë': 84}\n"
          ],
          "name": "stdout"
        }
      ]
    },
    {
      "metadata": {
        "id": "9pmRuV2D_kCw",
        "colab_type": "code",
        "colab": {
          "base_uri": "https://localhost:8080/",
          "height": 59
        },
        "outputId": "5f83e96a-29b2-4221-e8e7-3ecc14a60217"
      },
      "cell_type": "code",
      "source": [
        "print(indices_char)"
      ],
      "execution_count": 26,
      "outputs": [
        {
          "output_type": "stream",
          "text": [
            "{0: '\\x00', 1: '\\n', 2: ' ', 3: '!', 4: '\"', 5: \"'\", 6: '(', 7: ')', 8: ',', 9: '-', 10: '.', 11: '0', 12: '1', 13: '2', 14: '3', 15: '4', 16: '5', 17: '6', 18: '7', 19: '8', 20: '9', 21: ':', 22: ';', 23: '=', 24: '?', 25: 'A', 26: 'B', 27: 'C', 28: 'D', 29: 'E', 30: 'F', 31: 'G', 32: 'H', 33: 'I', 34: 'J', 35: 'K', 36: 'L', 37: 'M', 38: 'N', 39: 'O', 40: 'P', 41: 'Q', 42: 'R', 43: 'S', 44: 'T', 45: 'U', 46: 'V', 47: 'W', 48: 'X', 49: 'Y', 50: 'Z', 51: '[', 52: ']', 53: '_', 54: 'a', 55: 'b', 56: 'c', 57: 'd', 58: 'e', 59: 'f', 60: 'g', 61: 'h', 62: 'i', 63: 'j', 64: 'k', 65: 'l', 66: 'm', 67: 'n', 68: 'o', 69: 'p', 70: 'q', 71: 'r', 72: 's', 73: 't', 74: 'u', 75: 'v', 76: 'w', 77: 'x', 78: 'y', 79: 'z', 80: 'Æ', 81: 'ä', 82: 'æ', 83: 'é', 84: 'ë'}\n"
          ],
          "name": "stdout"
        }
      ]
    },
    {
      "metadata": {
        "id": "EJXRueO2_71c",
        "colab_type": "code",
        "colab": {
          "base_uri": "https://localhost:8080/",
          "height": 34
        },
        "outputId": "e978ae0e-0e5b-439f-de9a-15a41f7e8e36"
      },
      "cell_type": "code",
      "source": [
        "# Данные текста (text) в виде индексов\n",
        "idx = [char_indices[c] for c in text]\n",
        "idx[:10]"
      ],
      "execution_count": 28,
      "outputs": [
        {
          "output_type": "execute_result",
          "data": {
            "text/plain": [
              "[40, 42, 29, 30, 25, 27, 29, 1, 1, 1]"
            ]
          },
          "metadata": {
            "tags": []
          },
          "execution_count": 28
        }
      ]
    },
    {
      "metadata": {
        "id": "vnjs26m0ATNB",
        "colab_type": "code",
        "colab": {
          "base_uri": "https://localhost:8080/",
          "height": 34
        },
        "outputId": "769142e9-e10e-43d0-941d-d93bed6525f0"
      },
      "cell_type": "code",
      "source": [
        "# Пример получения строки стекста по карте индексов\n",
        "''.join(indices_char[i] for i in idx[:70])"
      ],
      "execution_count": 29,
      "outputs": [
        {
          "output_type": "execute_result",
          "data": {
            "text/plain": [
              "'PREFACE\\n\\n\\nSUPPOSING that Truth is a woman--what then? Is there not gro'"
            ]
          },
          "metadata": {
            "tags": []
          },
          "execution_count": 29
        }
      ]
    },
    {
      "metadata": {
        "id": "tMTPaPWtI5cq",
        "colab_type": "text"
      },
      "cell_type": "markdown",
      "source": [
        "Теперь наш датасет - переменная **idx**"
      ]
    },
    {
      "metadata": {
        "id": "O2cltXN5A2LY",
        "colab_type": "text"
      },
      "cell_type": "markdown",
      "source": [
        "### Модель трёх символов"
      ]
    },
    {
      "metadata": {
        "id": "b4kONmXtA6ls",
        "colab_type": "code",
        "colab": {
          "base_uri": "https://localhost:8080/",
          "height": 34
        },
        "outputId": "99723e56-5840-4931-bbad-becd0c70e3aa"
      },
      "cell_type": "code",
      "source": [
        "# Списки каждого 4 символа\n",
        "cs=3 # \n",
        "# Начиная с нулевого символа\n",
        "c1_dat = [idx[i]   for i in range(0, len(idx)-cs, cs)]\n",
        "# Начиная с первого символа\n",
        "c2_dat = [idx[i+1] for i in range(0, len(idx)-cs, cs)]\n",
        "# Начиная со второго символа\n",
        "c3_dat = [idx[i+2] for i in range(0, len(idx)-cs, cs)]\n",
        "# Начиная с третьего символа\n",
        "c4_dat = [idx[i+3] for i in range(0, len(idx)-cs, cs)]\n",
        "print(c1_dat[:5], c2_dat[:5], c3_dat[:5], c4_dat[:5])"
      ],
      "execution_count": 33,
      "outputs": [
        {
          "output_type": "stream",
          "text": [
            "[40, 30, 29, 1, 40] [42, 25, 1, 43, 40] [29, 27, 1, 45, 39] [30, 29, 1, 40, 43]\n"
          ],
          "name": "stdout"
        }
      ]
    },
    {
      "metadata": {
        "id": "G8B83R-eJ9Vi",
        "colab_type": "text"
      },
      "cell_type": "markdown",
      "source": [
        "Преобразуем списки в массивы"
      ]
    },
    {
      "metadata": {
        "id": "lE1OHCsnCkx2",
        "colab_type": "code",
        "colab": {
          "base_uri": "https://localhost:8080/",
          "height": 34
        },
        "outputId": "04b19007-4eae-46e8-c344-2c712274a7e3"
      },
      "cell_type": "code",
      "source": [
        "# наши входы\n",
        "x1 = np.stack(c1_dat)\n",
        "x2 = np.stack(c2_dat)\n",
        "x3 = np.stack(c3_dat)\n",
        "x1[:4], x2[:4], x3[:4]"
      ],
      "execution_count": 36,
      "outputs": [
        {
          "output_type": "execute_result",
          "data": {
            "text/plain": [
              "(array([40, 30, 29,  1]), array([42, 25,  1, 43]), array([29, 27,  1, 45]))"
            ]
          },
          "metadata": {
            "tags": []
          },
          "execution_count": 36
        }
      ]
    },
    {
      "metadata": {
        "id": "SAZcj70QCoyx",
        "colab_type": "code",
        "colab": {
          "base_uri": "https://localhost:8080/",
          "height": 34
        },
        "outputId": "6af480d9-80f0-4806-b1ff-16ea5459f974"
      },
      "cell_type": "code",
      "source": [
        "# наш выход\n",
        "y = np.stack(c4_dat)\n",
        "y[:4]"
      ],
      "execution_count": 38,
      "outputs": [
        {
          "output_type": "execute_result",
          "data": {
            "text/plain": [
              "array([30, 29,  1, 40])"
            ]
          },
          "metadata": {
            "tags": []
          },
          "execution_count": 38
        }
      ]
    },
    {
      "metadata": {
        "id": "WoKmgFBlHD4V",
        "colab_type": "code",
        "colab": {
          "base_uri": "https://localhost:8080/",
          "height": 34
        },
        "outputId": "96a0c98c-68a5-4f8c-a935-cc96d9b93e90"
      },
      "cell_type": "code",
      "source": [
        "x1.shape, x2.shape, x3.shape, y.shape"
      ],
      "execution_count": 40,
      "outputs": [
        {
          "output_type": "execute_result",
          "data": {
            "text/plain": [
              "((200297,), (200297,), (200297,), (200297,))"
            ]
          },
          "metadata": {
            "tags": []
          },
          "execution_count": 40
        }
      ]
    },
    {
      "metadata": {
        "id": "uvckLQjBKpEw",
        "colab_type": "text"
      },
      "cell_type": "markdown",
      "source": [
        "### Создание и обучение модели"
      ]
    },
    {
      "metadata": {
        "id": "ge4lgKxIKse7",
        "colab_type": "code",
        "colab": {}
      },
      "cell_type": "code",
      "source": [
        "# Количество активаций скрытого слоя\n",
        "n_hidden = 256"
      ],
      "execution_count": 0,
      "outputs": []
    },
    {
      "metadata": {
        "id": "GDhHgJPhK3jp",
        "colab_type": "code",
        "colab": {}
      },
      "cell_type": "code",
      "source": [
        "# Количество n_fac примерно половины словаря (количества используемых символов)\n",
        "n_fac = 42"
      ],
      "execution_count": 0,
      "outputs": []
    },
    {
      "metadata": {
        "id": "EX6Z6FupLPqh",
        "colab_type": "code",
        "colab": {}
      },
      "cell_type": "code",
      "source": [
        "# Создадим класс модели\n",
        "class Char3Model(nn.Module):\n",
        "    def __init__(self, vocab_size, n_fac):\n",
        "        super().__init__()\n",
        "        \n",
        "        # Матрицы весов\n",
        "        \n",
        "        self.e = nn.Embedding(vocab_size, n_fac) # слой эмбеддинга\n",
        "\n",
        "        # The 'green arrow' from our diagram - the layer operation from input to hidden\n",
        "        self.l_in = nn.Linear(n_fac, n_hidden) # линейный входной слой\n",
        "\n",
        "        # The 'orange arrow' from our diagram - the layer operation from hidden to hidden\n",
        "        self.l_hidden = nn.Linear(n_hidden, n_hidden) # скрытый слой\n",
        "        \n",
        "        # The 'blue arrow' from our diagram - the layer operation from hidden to output\n",
        "        self.l_out = nn.Linear(n_hidden, vocab_size) # выходной слой\n",
        "        \n",
        "    def forward(self, c1, c2, c3):\n",
        "      # Один входной слой\n",
        "        in1 = F.relu(self.l_in(self.e(c1))) # эмбеддинг -> линейный -> выпрямитель'\n",
        "        in2 = F.relu(self.l_in(self.e(c2))) # вычисляем для каждого входа\n",
        "        in3 = F.relu(self.l_in(self.e(c3)))\n",
        "      # Один скрытый слой\n",
        "        h = V(torch.zeros(in1.size()).cuda()) # берёём пустую матрицу\n",
        "        h = F.tanh(self.l_hidden(h+in1)) # и суммируем функцию скрытого слоя\n",
        "        h = F.tanh(self.l_hidden(h+in2)) # от результатов каждого входа\n",
        "        h = F.tanh(self.l_hidden(h+in3))\n",
        "      # Выходной слой\n",
        "        return F.log_softmax(self.l_out(h))\n",
        "    \n",
        "    # Для наглядности\n",
        "    def forward2(self, c1, c2, c3):\n",
        "      h = V(torch.zeros(in1.size()).cuda())\n",
        "      i = F.relu(self.l_in(self.e(c1)))\n",
        "      h = F.tanh(self.l_hidden(h+i))\n",
        "      i = F.relu(self.l_in(self.e(c2)))\n",
        "      h = F.tanh(self.l_hidden(h+i))\n",
        "      i = F.relu(self.l_in(self.e(c3)))\n",
        "      h = F.tanh(self.l_hidden(h+i))\n",
        "      return F.log_softmax(self.l_out(h))\n",
        "    \n",
        "    # Рефакторинг\n",
        "    def forward3(self, c1, c2, c3):\n",
        "      h = V(torch.zeros(in1.size()).cuda())\n",
        "      for _ in range(3):\n",
        "        i = F.relu(self.l_in(self.e(c1)))\n",
        "        h = F.tanh(self.l_hidden(h+i))\n",
        "      return F.log_softmax(self.l_out(h))"
      ],
      "execution_count": 0,
      "outputs": []
    },
    {
      "metadata": {
        "id": "e0v7j08oYkCL",
        "colab_type": "code",
        "colab": {
          "base_uri": "https://localhost:8080/",
          "height": 34
        },
        "outputId": "9fd58c52-cf75-4b7b-be6d-dc8f0df35446"
      },
      "cell_type": "code",
      "source": [
        "# Используем fastai для загрузки данных\n",
        "md = ColumnarModelData.from_arrays('.', [-1], np.stack([x1,x2,x3], axis=1), y, bs=512)\n",
        "md"
      ],
      "execution_count": 55,
      "outputs": [
        {
          "output_type": "execute_result",
          "data": {
            "text/plain": [
              "<fastai.column_data.ColumnarModelData at 0x7f474df8b160>"
            ]
          },
          "metadata": {
            "tags": []
          },
          "execution_count": 55
        }
      ]
    },
    {
      "metadata": {
        "id": "GBOEfe-XZb5w",
        "colab_type": "code",
        "colab": {
          "base_uri": "https://localhost:8080/",
          "height": 119
        },
        "outputId": "c13b9a66-5b97-42b5-9eda-3d915c822689"
      },
      "cell_type": "code",
      "source": [
        "# Создадим модель\n",
        "m = Char3Model(vocab_size, n_fac).cuda()\n",
        "m"
      ],
      "execution_count": 56,
      "outputs": [
        {
          "output_type": "execute_result",
          "data": {
            "text/plain": [
              "Char3Model(\n",
              "  (e): Embedding(85, 42)\n",
              "  (l_in): Linear(in_features=42, out_features=256, bias=True)\n",
              "  (l_hidden): Linear(in_features=256, out_features=256, bias=True)\n",
              "  (l_out): Linear(in_features=256, out_features=85, bias=True)\n",
              ")"
            ]
          },
          "metadata": {
            "tags": []
          },
          "execution_count": 56
        }
      ]
    },
    {
      "metadata": {
        "id": "VeDl1tI0a8B9",
        "colab_type": "code",
        "colab": {
          "base_uri": "https://localhost:8080/",
          "height": 34
        },
        "outputId": "31ace83e-cb8a-4cbd-9077-6fb8114d6332"
      },
      "cell_type": "code",
      "source": [
        "# итератор для прохождения по обучающей выборке\n",
        "it = iter(md.trn_dl)\n",
        "it"
      ],
      "execution_count": 57,
      "outputs": [
        {
          "output_type": "execute_result",
          "data": {
            "text/plain": [
              "<generator object DataLoader.__iter__ at 0x7f474dee6e60>"
            ]
          },
          "metadata": {
            "tags": []
          },
          "execution_count": 57
        }
      ]
    },
    {
      "metadata": {
        "id": "SaNQVgZZbPlU",
        "colab_type": "code",
        "colab": {
          "base_uri": "https://localhost:8080/",
          "height": 34
        },
        "outputId": "363ac0e9-e3ff-40d8-bbf4-a3e79d13d665"
      },
      "cell_type": "code",
      "source": [
        "# Минибатчи достаются таким образом:\n",
        "*xs,yt = next(it)\n",
        "\n",
        "len(xs), xs[0].size(), yt.size()"
      ],
      "execution_count": 77,
      "outputs": [
        {
          "output_type": "execute_result",
          "data": {
            "text/plain": [
              "(3, torch.Size([512]), torch.Size([512]))"
            ]
          },
          "metadata": {
            "tags": []
          },
          "execution_count": 77
        }
      ]
    },
    {
      "metadata": {
        "id": "noJfIp1Abd7l",
        "colab_type": "code",
        "colab": {
          "base_uri": "https://localhost:8080/",
          "height": 340
        },
        "outputId": "e4a137b7-21da-46bf-f016-2fbdecab14b3"
      },
      "cell_type": "code",
      "source": [
        "# пример вхоодных данных\n",
        "# 3 строки по 512 столбцов\n",
        "# вместо прямого кодирования - эмбендинги\n",
        "xs[0][:5], xs[1][:5], xs[2][:5]"
      ],
      "execution_count": 74,
      "outputs": [
        {
          "output_type": "execute_result",
          "data": {
            "text/plain": [
              "(\n",
              "  71\n",
              "  58\n",
              "  54\n",
              "  68\n",
              "  65\n",
              " [torch.cuda.LongTensor of size 5 (GPU 0)], \n",
              "   2\n",
              "  67\n",
              "  72\n",
              "   2\n",
              "  65\n",
              " [torch.cuda.LongTensor of size 5 (GPU 0)], \n",
              "  73\n",
              "   1\n",
              "   2\n",
              "  72\n",
              "  10\n",
              " [torch.cuda.LongTensor of size 5 (GPU 0)])"
            ]
          },
          "metadata": {
            "tags": []
          },
          "execution_count": 74
        }
      ]
    },
    {
      "metadata": {
        "id": "Riu8IORwdBqw",
        "colab_type": "code",
        "colab": {
          "base_uri": "https://localhost:8080/",
          "height": 170
        },
        "outputId": "1c17ad95-a2ff-4221-98c9-42de35f47b17"
      },
      "cell_type": "code",
      "source": [
        "# Модель можно вызывать как функцию, \n",
        "# передавая в неё обёрнутые в Variable входные данные.\n",
        "# Возвращает в нашем случае матрицу логарифмов вероятностей 512x85\n",
        "# 512 - размер минибатча\n",
        "# 85 - количество признаков\n",
        "t = m(*V(xs))\n",
        "t"
      ],
      "execution_count": 78,
      "outputs": [
        {
          "output_type": "execute_result",
          "data": {
            "text/plain": [
              "Variable containing:\n",
              "-4.3962 -4.3154 -4.5211  ...  -4.3912 -4.5435 -4.4732\n",
              "-4.5377 -4.4180 -4.6580  ...  -4.6044 -4.5565 -4.5929\n",
              "-4.3207 -4.4384 -4.3723  ...  -4.6725 -4.5566 -4.4587\n",
              "          ...             ⋱             ...          \n",
              "-4.2022 -4.3583 -4.6172  ...  -4.4522 -4.5896 -4.5665\n",
              "-4.2314 -4.3622 -4.4085  ...  -4.6435 -4.6685 -4.4172\n",
              "-4.4942 -4.4306 -4.7413  ...  -4.5525 -4.5084 -4.3842\n",
              "[torch.cuda.FloatTensor of size 512x85 (GPU 0)]"
            ]
          },
          "metadata": {
            "tags": []
          },
          "execution_count": 78
        }
      ]
    },
    {
      "metadata": {
        "id": "I5Pb9CosgRYx",
        "colab_type": "code",
        "colab": {}
      },
      "cell_type": "code",
      "source": [
        "# Используем алгоритм оптимизации PyTorch\n",
        "opt = optim.Adam(m.parameters(), 0.01)"
      ],
      "execution_count": 0,
      "outputs": []
    },
    {
      "metadata": {
        "id": "54CSdeTNgpA3",
        "colab_type": "code",
        "colab": {
          "base_uri": "https://localhost:8080/",
          "height": 102
        },
        "outputId": "69bb49d5-7312-4c49-a332-cce6418ec10f"
      },
      "cell_type": "code",
      "source": [
        "# Теперь можно проводить обучение\n",
        "fit(m, md, 1, opt, F.nll_loss)"
      ],
      "execution_count": 80,
      "outputs": [
        {
          "output_type": "display_data",
          "data": {
            "application/vnd.jupyter.widget-view+json": {
              "model_id": "a81ef71fcc1e49c1be3959abec1a850b",
              "version_minor": 0,
              "version_major": 2
            },
            "text/plain": [
              "HBox(children=(IntProgress(value=0, description='Epoch', max=1), HTML(value='')))"
            ]
          },
          "metadata": {
            "tags": []
          }
        },
        {
          "output_type": "stream",
          "text": [
            "epoch      trn_loss   val_loss   \n",
            "    0      2.092768   0.946334  \n",
            "\n"
          ],
          "name": "stdout"
        },
        {
          "output_type": "execute_result",
          "data": {
            "text/plain": [
              "[array([0.94633])]"
            ]
          },
          "metadata": {
            "tags": []
          },
          "execution_count": 80
        }
      ]
    },
    {
      "metadata": {
        "id": "YJ0Kw3kGhFl9",
        "colab_type": "code",
        "colab": {}
      },
      "cell_type": "code",
      "source": [
        "# Изменяем скорость обучения\n",
        "set_lrs(opt, 0.001)"
      ],
      "execution_count": 0,
      "outputs": []
    },
    {
      "metadata": {
        "id": "73T44-5PhKcJ",
        "colab_type": "code",
        "colab": {
          "base_uri": "https://localhost:8080/",
          "height": 204
        },
        "outputId": "dfe696fe-bea7-4d0c-b305-a528035a077c"
      },
      "cell_type": "code",
      "source": [
        "fit(m, md, 7, opt, F.nll_loss)"
      ],
      "execution_count": 91,
      "outputs": [
        {
          "output_type": "display_data",
          "data": {
            "application/vnd.jupyter.widget-view+json": {
              "model_id": "97478d0cc71a4c13bc50fffa512d07eb",
              "version_minor": 0,
              "version_major": 2
            },
            "text/plain": [
              "HBox(children=(IntProgress(value=0, description='Epoch', max=7), HTML(value='')))"
            ]
          },
          "metadata": {
            "tags": []
          }
        },
        {
          "output_type": "stream",
          "text": [
            "epoch      trn_loss   val_loss   \n",
            "    0      1.789143   0.285271  \n",
            "    1      1.758075   0.436972  \n",
            " 23%|██▎       | 91/392 [00:01<00:05, 54.15it/s, loss=1.74]"
          ],
          "name": "stdout"
        },
        {
          "output_type": "stream",
          "text": [
            "    2      1.742633   0.431403  \n",
            "    3      1.721344   0.436019  \n",
            " 67%|██████▋   | 261/392 [00:04<00:02, 56.96it/s, loss=1.72]"
          ],
          "name": "stdout"
        },
        {
          "output_type": "stream",
          "text": [
            "    4      1.714571   0.280933  \n",
            "    5      1.70305    0.351053  \n",
            " 89%|████████▊ | 347/392 [00:06<00:00, 56.91it/s, loss=1.69]"
          ],
          "name": "stdout"
        },
        {
          "output_type": "stream",
          "text": [
            "    6      1.699738   0.30751   \n",
            "\n"
          ],
          "name": "stdout"
        },
        {
          "output_type": "execute_result",
          "data": {
            "text/plain": [
              "[array([0.30751])]"
            ]
          },
          "metadata": {
            "tags": []
          },
          "execution_count": 91
        }
      ]
    },
    {
      "metadata": {
        "id": "vD82Zb1uhoQP",
        "colab_type": "text"
      },
      "cell_type": "markdown",
      "source": [
        "### Получаем результаты"
      ]
    },
    {
      "metadata": {
        "id": "lZ6c11TZhvBk",
        "colab_type": "code",
        "colab": {}
      },
      "cell_type": "code",
      "source": [
        "# Функция прогнозирования\n",
        "def get_next(inp):\n",
        "  # Три символа заменяются на индексы\n",
        "  # и оборачиваются в массив, после в тензор\n",
        "    idxs = T(np.array([char_indices[c] for c in inp]))\n",
        "  # затем в Variable и передаются модели\n",
        "    p = m(*VV(idxs))\n",
        "  # Возвращаем самое вероятное предсказание\n",
        "  # в формате numpy\n",
        "    i = np.argmax(to_np(p))\n",
        "    return chars[i]"
      ],
      "execution_count": 0,
      "outputs": []
    },
    {
      "metadata": {
        "id": "lTJpWtt-jrBu",
        "colab_type": "text"
      },
      "cell_type": "markdown",
      "source": [
        "Пробуем"
      ]
    },
    {
      "metadata": {
        "id": "Xfdf_W-mjoY3",
        "colab_type": "code",
        "colab": {
          "base_uri": "https://localhost:8080/",
          "height": 34
        },
        "outputId": "75b5b6b1-5943-430a-a804-1b2e48f32d35"
      },
      "cell_type": "code",
      "source": [
        "get_next('and')"
      ],
      "execution_count": 84,
      "outputs": [
        {
          "output_type": "execute_result",
          "data": {
            "text/plain": [
              "' '"
            ]
          },
          "metadata": {
            "tags": []
          },
          "execution_count": 84
        }
      ]
    },
    {
      "metadata": {
        "id": "OBwiBTg0j3WG",
        "colab_type": "code",
        "colab": {
          "base_uri": "https://localhost:8080/",
          "height": 34
        },
        "outputId": "b8d02437-f17e-403d-fc81-72e9c8d96675"
      },
      "cell_type": "code",
      "source": [
        "get_next(' th')"
      ],
      "execution_count": 85,
      "outputs": [
        {
          "output_type": "execute_result",
          "data": {
            "text/plain": [
              "'e'"
            ]
          },
          "metadata": {
            "tags": []
          },
          "execution_count": 85
        }
      ]
    },
    {
      "metadata": {
        "id": "DvLBhMP4j9pU",
        "colab_type": "code",
        "colab": {
          "base_uri": "https://localhost:8080/",
          "height": 34
        },
        "outputId": "9cabdda2-3c2d-4104-bf99-b362e5796f71"
      },
      "cell_type": "code",
      "source": [
        "get_next('fil')"
      ],
      "execution_count": 86,
      "outputs": [
        {
          "output_type": "execute_result",
          "data": {
            "text/plain": [
              "'l'"
            ]
          },
          "metadata": {
            "tags": []
          },
          "execution_count": 86
        }
      ]
    },
    {
      "metadata": {
        "id": "vzPLdhr9kAhB",
        "colab_type": "code",
        "colab": {}
      },
      "cell_type": "code",
      "source": [
        "# Создадим генератор текста\n",
        "def gen_text(three, n=1):\n",
        "  result = three\n",
        "  for _ in range(n):\n",
        "    simb = get_next(three)\n",
        "    three = three[1:] + simb\n",
        "    result += simb\n",
        "  return result"
      ],
      "execution_count": 0,
      "outputs": []
    },
    {
      "metadata": {
        "id": "jIAUkWvWmRyT",
        "colab_type": "code",
        "colab": {
          "base_uri": "https://localhost:8080/",
          "height": 34
        },
        "outputId": "8bf32ce8-74a8-4ed0-c5e2-91d9e3935536"
      },
      "cell_type": "code",
      "source": [
        "gen_text('app', n=50)"
      ],
      "execution_count": 112,
      "outputs": [
        {
          "output_type": "execute_result",
          "data": {
            "text/plain": [
              "'appense of the sting the sting the sting the sting th'"
            ]
          },
          "metadata": {
            "tags": []
          },
          "execution_count": 112
        }
      ]
    },
    {
      "metadata": {
        "id": "wkgGnyqFnf01",
        "colab_type": "code",
        "colab": {}
      },
      "cell_type": "code",
      "source": [
        "# Создадим генератор слов\n",
        "def gen_word(three):\n",
        "  result = three\n",
        "  for _ in range(10):\n",
        "    simb = get_next(three)\n",
        "    if simb == ' ': break\n",
        "    three = three[1:] + simb\n",
        "    result += simb\n",
        "  return result"
      ],
      "execution_count": 0,
      "outputs": []
    },
    {
      "metadata": {
        "id": "_Onc7Facn6Ir",
        "colab_type": "code",
        "colab": {
          "base_uri": "https://localhost:8080/",
          "height": 34
        },
        "outputId": "431faca1-3d03-48ec-e6a1-09fb80968ea5"
      },
      "cell_type": "code",
      "source": [
        "gen_word('app')"
      ],
      "execution_count": 115,
      "outputs": [
        {
          "output_type": "execute_result",
          "data": {
            "text/plain": [
              "'appense'"
            ]
          },
          "metadata": {
            "tags": []
          },
          "execution_count": 115
        }
      ]
    },
    {
      "metadata": {
        "id": "6ISo_2mCn-dA",
        "colab_type": "code",
        "colab": {
          "base_uri": "https://localhost:8080/",
          "height": 34
        },
        "outputId": "f9fd9d63-1745-461a-8604-c8087c917eb7"
      },
      "cell_type": "code",
      "source": [
        "gen_word('wor')"
      ],
      "execution_count": 116,
      "outputs": [
        {
          "output_type": "execute_result",
          "data": {
            "text/plain": [
              "'world'"
            ]
          },
          "metadata": {
            "tags": []
          },
          "execution_count": 116
        }
      ]
    },
    {
      "metadata": {
        "id": "4bFDAJ9IpJyW",
        "colab_type": "code",
        "colab": {
          "base_uri": "https://localhost:8080/",
          "height": 34
        },
        "outputId": "08342b45-2ad6-48b5-b651-f84ad5a8ecf1"
      },
      "cell_type": "code",
      "source": [
        "gen_word('git')"
      ],
      "execution_count": 117,
      "outputs": [
        {
          "output_type": "execute_result",
          "data": {
            "text/plain": [
              "'gition'"
            ]
          },
          "metadata": {
            "tags": []
          },
          "execution_count": 117
        }
      ]
    },
    {
      "metadata": {
        "id": "VSGK5eX1pQMD",
        "colab_type": "code",
        "colab": {
          "base_uri": "https://localhost:8080/",
          "height": 34
        },
        "outputId": "b1f12c4d-5728-45f9-daae-af6e8e670ac8"
      },
      "cell_type": "code",
      "source": [
        "gen_word('mor')"
      ],
      "execution_count": 118,
      "outputs": [
        {
          "output_type": "execute_result",
          "data": {
            "text/plain": [
              "'more'"
            ]
          },
          "metadata": {
            "tags": []
          },
          "execution_count": 118
        }
      ]
    },
    {
      "metadata": {
        "id": "Sy07_tGrpQ52",
        "colab_type": "code",
        "colab": {
          "base_uri": "https://localhost:8080/",
          "height": 34
        },
        "outputId": "e8e17f0e-4032-46a7-9a44-33dfed8a6b30"
      },
      "cell_type": "code",
      "source": [
        "gen_word('shi')"
      ],
      "execution_count": 119,
      "outputs": [
        {
          "output_type": "execute_result",
          "data": {
            "text/plain": [
              "'shing'"
            ]
          },
          "metadata": {
            "tags": []
          },
          "execution_count": 119
        }
      ]
    }
  ]
}